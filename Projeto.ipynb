{
 "cells": [
  {
   "attachments": {},
   "cell_type": "markdown",
   "metadata": {},
   "source": [
    "### PROJETO 1: Raspagem de dados com Selenium e carregando em um Banco de Dados com SQL"
   ]
  },
  {
   "attachments": {},
   "cell_type": "markdown",
   "metadata": {},
   "source": [
    "#### Neste projeto será utilizado o Site \"Books to Scrape\" que é um site fictício projetado especificamente para prática de raspagem de dados. Ele contém várias categorias de livros, com informaçöes como título, preço, etc...\n",
    "\n",
    "* Site: http://books.toscrape.com/index.html"
   ]
  },
  {
   "cell_type": "code",
   "execution_count": 388,
   "metadata": {},
   "outputs": [],
   "source": [
    "# importando as biblióteca \n",
    "import pandas as pd\n",
    "from selenium import webdriver\n",
    "from selenium.webdriver.chrome.service import Service\n",
    "from webdriver_manager.chrome import ChromeDriverManager\n",
    "from selenium.webdriver.common.by import By\n",
    "\n",
    "servico = Service(ChromeDriverManager().install())\n",
    "drive = webdriver.Chrome(service=servico)\n"
   ]
  },
  {
   "cell_type": "code",
   "execution_count": 389,
   "metadata": {},
   "outputs": [],
   "source": [
    "site = \"http://books.toscrape.com/index.html\"\n",
    "drive.get(site)"
   ]
  },
  {
   "cell_type": "code",
   "execution_count": 390,
   "metadata": {},
   "outputs": [],
   "source": [
    "# Criando listas para armazenamento das informaçöes\n",
    "nome = []\n",
    "preco = []\n",
    "status = []"
   ]
  },
  {
   "cell_type": "code",
   "execution_count": 391,
   "metadata": {},
   "outputs": [],
   "source": [
    "#Pegando a quantidade de paginas do site\n",
    "resultado= int(drive.find_element(By.XPATH,'//*[@id=\"default\"]/div/div/div/div/form/strong[1]').text)\n",
    "mostrador = int(drive.find_element(By.XPATH,'//*[@id=\"default\"]/div/div/div/div/form/strong[3]').text)\n",
    "num_paginas = int(resultado/mostrador)"
   ]
  },
  {
   "cell_type": "code",
   "execution_count": 392,
   "metadata": {},
   "outputs": [],
   "source": [
    "# Realizando a raspagem dos dados selecionados\n",
    "import time\n",
    "i= 0 \n",
    "try:\n",
    "    while i <= num_paginas: \n",
    "        tabela = drive.find_element(By.XPATH,'//*[@id=\"default\"]/div/div/div/div/section/div[2]/ol')\n",
    "        livros = tabela.find_elements(By.CLASS_NAME, 'product_pod')\n",
    "        for livro  in livros:\n",
    "            h3 = livro.find_element(By.TAG_NAME,'h3')\n",
    "            nome.append(h3.find_element(By.TAG_NAME,'a').get_attribute('title'))\n",
    "            preco.append(livro.find_element(By.CLASS_NAME,'price_color').text)\n",
    "            status.append(livro.find_element(By.CLASS_NAME,'product_price').text[7:14])\n",
    "        page = drive.find_element(By.CLASS_NAME, 'pager')\n",
    "        page = page.find_element(By.CLASS_NAME,'next')\n",
    "        next = page.find_element(By.TAG_NAME, 'a').click()\n",
    "        time.sleep(1)\n",
    "        i += 1\n",
    "except:\n",
    "    pass\n"
   ]
  },
  {
   "cell_type": "code",
   "execution_count": 393,
   "metadata": {},
   "outputs": [
    {
     "data": {
      "text/plain": [
       "(80, 4)"
      ]
     },
     "metadata": {},
     "output_type": "display_data"
    },
    {
     "data": {
      "text/html": [
       "<div>\n",
       "<style scoped>\n",
       "    .dataframe tbody tr th:only-of-type {\n",
       "        vertical-align: middle;\n",
       "    }\n",
       "\n",
       "    .dataframe tbody tr th {\n",
       "        vertical-align: top;\n",
       "    }\n",
       "\n",
       "    .dataframe thead th {\n",
       "        text-align: right;\n",
       "    }\n",
       "</style>\n",
       "<table border=\"1\" class=\"dataframe\">\n",
       "  <thead>\n",
       "    <tr style=\"text-align: right;\">\n",
       "      <th></th>\n",
       "      <th>Nome</th>\n",
       "      <th>Status</th>\n",
       "      <th>Preço</th>\n",
       "      <th>Moeda</th>\n",
       "    </tr>\n",
       "  </thead>\n",
       "  <tbody>\n",
       "    <tr>\n",
       "      <th>0</th>\n",
       "      <td>A Light in the Attic</td>\n",
       "      <td>In stoc</td>\n",
       "      <td>51.77</td>\n",
       "      <td>£</td>\n",
       "    </tr>\n",
       "    <tr>\n",
       "      <th>1</th>\n",
       "      <td>Tipping the Velvet</td>\n",
       "      <td>In stoc</td>\n",
       "      <td>53.74</td>\n",
       "      <td>£</td>\n",
       "    </tr>\n",
       "    <tr>\n",
       "      <th>2</th>\n",
       "      <td>Soumission</td>\n",
       "      <td>In stoc</td>\n",
       "      <td>50.10</td>\n",
       "      <td>£</td>\n",
       "    </tr>\n",
       "    <tr>\n",
       "      <th>3</th>\n",
       "      <td>Sharp Objects</td>\n",
       "      <td>In stoc</td>\n",
       "      <td>47.82</td>\n",
       "      <td>£</td>\n",
       "    </tr>\n",
       "    <tr>\n",
       "      <th>4</th>\n",
       "      <td>Sapiens: A Brief History of Humankind</td>\n",
       "      <td>In stoc</td>\n",
       "      <td>54.23</td>\n",
       "      <td>£</td>\n",
       "    </tr>\n",
       "  </tbody>\n",
       "</table>\n",
       "</div>"
      ],
      "text/plain": [
       "                                    Nome   Status  Preço Moeda\n",
       "0                   A Light in the Attic  In stoc  51.77     £\n",
       "1                     Tipping the Velvet  In stoc  53.74     £\n",
       "2                             Soumission  In stoc  50.10     £\n",
       "3                          Sharp Objects  In stoc  47.82     £\n",
       "4  Sapiens: A Brief History of Humankind  In stoc  54.23     £"
      ]
     },
     "metadata": {},
     "output_type": "display_data"
    },
    {
     "data": {
      "text/html": [
       "<div>\n",
       "<style scoped>\n",
       "    .dataframe tbody tr th:only-of-type {\n",
       "        vertical-align: middle;\n",
       "    }\n",
       "\n",
       "    .dataframe tbody tr th {\n",
       "        vertical-align: top;\n",
       "    }\n",
       "\n",
       "    .dataframe thead th {\n",
       "        text-align: right;\n",
       "    }\n",
       "</style>\n",
       "<table border=\"1\" class=\"dataframe\">\n",
       "  <thead>\n",
       "    <tr style=\"text-align: right;\">\n",
       "      <th></th>\n",
       "      <th>Nome</th>\n",
       "      <th>Status</th>\n",
       "      <th>Preço</th>\n",
       "      <th>Moeda</th>\n",
       "    </tr>\n",
       "  </thead>\n",
       "  <tbody>\n",
       "    <tr>\n",
       "      <th>75</th>\n",
       "      <td>Security</td>\n",
       "      <td>In stoc</td>\n",
       "      <td>39.25</td>\n",
       "      <td>£</td>\n",
       "    </tr>\n",
       "    <tr>\n",
       "      <th>76</th>\n",
       "      <td>Saga, Volume 6 (Saga (Collected Editions) #6)</td>\n",
       "      <td>In stoc</td>\n",
       "      <td>25.02</td>\n",
       "      <td>£</td>\n",
       "    </tr>\n",
       "    <tr>\n",
       "      <th>77</th>\n",
       "      <td>Saga, Volume 5 (Saga (Collected Editions) #5)</td>\n",
       "      <td>In stoc</td>\n",
       "      <td>51.04</td>\n",
       "      <td>£</td>\n",
       "    </tr>\n",
       "    <tr>\n",
       "      <th>78</th>\n",
       "      <td>Reskilling America: Learning to Labor in the T...</td>\n",
       "      <td>In stoc</td>\n",
       "      <td>19.83</td>\n",
       "      <td>£</td>\n",
       "    </tr>\n",
       "    <tr>\n",
       "      <th>79</th>\n",
       "      <td>Rat Queens, Vol. 3: Demons (Rat Queens (Collec...</td>\n",
       "      <td>In stoc</td>\n",
       "      <td>50.40</td>\n",
       "      <td>£</td>\n",
       "    </tr>\n",
       "  </tbody>\n",
       "</table>\n",
       "</div>"
      ],
      "text/plain": [
       "                                                 Nome   Status  Preço Moeda\n",
       "75                                           Security  In stoc  39.25     £\n",
       "76      Saga, Volume 6 (Saga (Collected Editions) #6)  In stoc  25.02     £\n",
       "77      Saga, Volume 5 (Saga (Collected Editions) #5)  In stoc  51.04     £\n",
       "78  Reskilling America: Learning to Labor in the T...  In stoc  19.83     £\n",
       "79  Rat Queens, Vol. 3: Demons (Rat Queens (Collec...  In stoc  50.40     £"
      ]
     },
     "metadata": {},
     "output_type": "display_data"
    }
   ],
   "source": [
    "# Criando um DataFrame Pandas com os dados \n",
    "df = pd.DataFrame(columns=['Nome','Status','Preço'])\n",
    "df['Nome'] = nome\n",
    "df['Preço'] = preco\n",
    "df['Status'] = status\n",
    "df[['Moeda','Preço']]= df['Preço'].str.split(pat='£',regex=None,expand=True)\n",
    "df['Moeda'] = '£'\n",
    "display(df.shape) # Número de linhas / colunas\n",
    "display(df.head()) # Imprime as 5 primeiras linhas\n",
    "display(df.tail()) # Imprime as 5 ultimas linhas "
   ]
  },
  {
   "attachments": {},
   "cell_type": "markdown",
   "metadata": {},
   "source": [
    "## Realizando a integraçao com Banco de Dados SQL SERVER\n",
    "* Create (Criar) , Read (Ler), Update(atualizar) , Delete(apagar) "
   ]
  },
  {
   "cell_type": "code",
   "execution_count": 395,
   "metadata": {},
   "outputs": [],
   "source": [
    "import pyodbc"
   ]
  },
  {
   "cell_type": "code",
   "execution_count": 396,
   "metadata": {},
   "outputs": [
    {
     "name": "stdout",
     "output_type": "stream",
     "text": [
      "Conexão bem sucedida!\n"
     ]
    }
   ],
   "source": [
    "def conect_ao_banco(driver='SQL Server', server='DESKTOP-82IHFV4', data='Raspagem_Dados',username=None, passorwd=None,truested_connection='yes'):\\\n",
    "\n",
    "    string_conexao = f\"Driver={driver};Server={server};Database={data};UID={username};PWD={passorwd}; TRUSTED_CONNECTION={truested_connection}\"\n",
    "\n",
    "    conexao = pyodbc.connect(string_conexao)\n",
    "    cursor = conexao.cursor()\n",
    "    \n",
    "    return conexao,cursor\n",
    "\n",
    "conexao, cursor = conect_ao_banco()\n",
    "print(\"Conexão bem sucedida!\")"
   ]
  },
  {
   "cell_type": "code",
   "execution_count": 402,
   "metadata": {},
   "outputs": [],
   "source": [
    "for linha in df.index:\n",
    "    \n",
    "    nome = (df.loc[linha,'Nome']).replace(\"'\",'')\n",
    "    status = df.loc[linha,'Status']\n",
    "    preco = df.loc[linha,'Preço']\n",
    "    moeda= df.loc[linha,'Moeda']\n",
    "    cursor.execute(f\"INSERT INTO Raspagem(Nome,Status,Preco,Moeda) VALUES ('{nome}','{status}',{preco},'{moeda}')\")\n",
    "    cursor.commit()\n",
    "    \n",
    "    "
   ]
  },
  {
   "cell_type": "code",
   "execution_count": null,
   "metadata": {},
   "outputs": [],
   "source": [
    "conexao.close()"
   ]
  }
 ],
 "metadata": {
  "kernelspec": {
   "display_name": "base",
   "language": "python",
   "name": "python3"
  },
  "language_info": {
   "codemirror_mode": {
    "name": "ipython",
    "version": 3
   },
   "file_extension": ".py",
   "mimetype": "text/x-python",
   "name": "python",
   "nbconvert_exporter": "python",
   "pygments_lexer": "ipython3",
   "version": "3.10.9"
  },
  "orig_nbformat": 4
 },
 "nbformat": 4,
 "nbformat_minor": 2
}
