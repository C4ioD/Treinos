{
 "cells": [
  {
   "cell_type": "markdown",
   "metadata": {},
   "source": [
    "## Usando análises químicas, determine a origem dos vinhos\n",
    "\n",
    "  #### Esses dados são o resultado de uma análise química de vinhos cultivados na mesma região da Itália, mas derivados de três cultivares diferentes. A análise determinou as quantidades de 13 constituintes encontradas em cada um dos três tipos de vinhos.\n",
    "  \n",
    "**Classe:** Se refere a classificação do Vinho.\n",
    "\n",
    "**Álcool:** O álcool no vinho é resultado da fermentação do açúcar presente nas uvas. Ele afeta o sabor, a textura e o corpo do vinho, bem como tem um efeito psicoativo.\n",
    "\n",
    "**Ácido málico:** Um dos ácidos presentes nas uvas. Seu nível afeta a acidez do vinho, contribuindo para o sabor fresco e a sensação de boca.\n",
    "\n",
    "**Cinza:** Também conhecida como \"minerais\", a cinza refere-se a uma variedade de minerais presentes no vinho que podem afetar sua estrutura e sabor.\n",
    "\n",
    "**Alcalinidade das cinzas:** Mede a quantidade de minerais alcalinos na cinza do vinho, o que pode influenciar a sensação de boca.\n",
    "\n",
    "**Magnésio:** Um dos minerais presentes no vinho, que pode ter efeitos sutis no sabor e na textura.\n",
    "\n",
    "**Fenóis totais:** Um grupo de compostos antioxidantes que afetam a cor, sabor e estrutura do vinho, contribuindo para o seu envelhecimento.\n",
    "\n",
    "**Flavanoides:** Subgrupo de fenóis que contribuem para a cor e os sabores do vinho, além de terem propriedades antioxidantes.\n",
    "\n",
    "**Fenóis não flavonoides:** Outro grupo de fenóis que podem ter efeitos sobre o sabor, a textura e a longevidade do vinho.\n",
    "\n",
    "**Proantocianinas:** São uma classe específica de flavonoides que contribuem para a cor e para a adstringência do vinho.\n",
    "\n",
    "**Intensidade da cor:** Mede a profundidade da cor do vinho, o que pode indicar o tipo de uvas utilizadas e o potencial de envelhecimento.\n",
    "\n",
    "**Tonalidade:** Refere-se à tonalidade da cor do vinho, que pode fornecer informações sobre seu estágio de maturidade e variedade de uva.\n",
    "\n",
    "**OD280/OD315 dos vinhos diluídos:** Essa relação de absorbância de luz em diferentes comprimentos de onda pode ser usada para estimar a concentração de compostos específicos, como proteínas e fenóis.\n",
    "\n",
    "**Prolina:** Um aminoácido que pode ser usado como indicador da maturidade das uvas e da quantidade de nitrogênio no mosto, que afeta o desenvolvimento das leveduras na fermentação."
   ]
  },
  {
   "cell_type": "markdown",
   "metadata": {},
   "source": [
    "Primeira etapa será de importação da biblioteca Pandas e da base de dados dos vinhos."
   ]
  },
  {
   "cell_type": "code",
   "execution_count": 1,
   "metadata": {},
   "outputs": [],
   "source": [
    "import pandas as pd\n",
    "df = pd.read_csv(r\"C:\\Users\\Dell\\Desktop\\Ciencia de Dados\\Projetos\\wine.data\")\n",
    "columns = ['class', 'alcool', 'acido_malico','cinzas', 'alcalinidade_das_cinzas','magnesio','total_fenol', 'flavenoides', 'Nãoflavanóides_fenóis','proantocianidinas','Intensidade_cor','cor','diluicao','prolina']\n",
    "df.columns = columns"
   ]
  },
  {
   "cell_type": "markdown",
   "metadata": {},
   "source": [
    "Visualizando  o tamanho do Dataframe junto com as 5 primeiras e 5 ultimas linhas."
   ]
  },
  {
   "cell_type": "code",
   "execution_count": 2,
   "metadata": {},
   "outputs": [
    {
     "name": "stdout",
     "output_type": "stream",
     "text": [
      "Linhas: 177 \n",
      "Colunas: 14\n"
     ]
    },
    {
     "data": {
      "text/html": [
       "<div>\n",
       "<style scoped>\n",
       "    .dataframe tbody tr th:only-of-type {\n",
       "        vertical-align: middle;\n",
       "    }\n",
       "\n",
       "    .dataframe tbody tr th {\n",
       "        vertical-align: top;\n",
       "    }\n",
       "\n",
       "    .dataframe thead th {\n",
       "        text-align: right;\n",
       "    }\n",
       "</style>\n",
       "<table border=\"1\" class=\"dataframe\">\n",
       "  <thead>\n",
       "    <tr style=\"text-align: right;\">\n",
       "      <th></th>\n",
       "      <th>class</th>\n",
       "      <th>alcool</th>\n",
       "      <th>acido_malico</th>\n",
       "      <th>cinzas</th>\n",
       "      <th>alcalinidade_das_cinzas</th>\n",
       "      <th>magnesio</th>\n",
       "      <th>total_fenol</th>\n",
       "      <th>flavenoides</th>\n",
       "      <th>Nãoflavanóides_fenóis</th>\n",
       "      <th>proantocianidinas</th>\n",
       "      <th>Intensidade_cor</th>\n",
       "      <th>cor</th>\n",
       "      <th>diluicao</th>\n",
       "      <th>prolina</th>\n",
       "    </tr>\n",
       "  </thead>\n",
       "  <tbody>\n",
       "    <tr>\n",
       "      <th>0</th>\n",
       "      <td>1</td>\n",
       "      <td>13.20</td>\n",
       "      <td>1.78</td>\n",
       "      <td>2.14</td>\n",
       "      <td>11.2</td>\n",
       "      <td>100</td>\n",
       "      <td>2.65</td>\n",
       "      <td>2.76</td>\n",
       "      <td>0.26</td>\n",
       "      <td>1.28</td>\n",
       "      <td>4.38</td>\n",
       "      <td>1.05</td>\n",
       "      <td>3.40</td>\n",
       "      <td>1050</td>\n",
       "    </tr>\n",
       "    <tr>\n",
       "      <th>1</th>\n",
       "      <td>1</td>\n",
       "      <td>13.16</td>\n",
       "      <td>2.36</td>\n",
       "      <td>2.67</td>\n",
       "      <td>18.6</td>\n",
       "      <td>101</td>\n",
       "      <td>2.80</td>\n",
       "      <td>3.24</td>\n",
       "      <td>0.30</td>\n",
       "      <td>2.81</td>\n",
       "      <td>5.68</td>\n",
       "      <td>1.03</td>\n",
       "      <td>3.17</td>\n",
       "      <td>1185</td>\n",
       "    </tr>\n",
       "    <tr>\n",
       "      <th>2</th>\n",
       "      <td>1</td>\n",
       "      <td>14.37</td>\n",
       "      <td>1.95</td>\n",
       "      <td>2.50</td>\n",
       "      <td>16.8</td>\n",
       "      <td>113</td>\n",
       "      <td>3.85</td>\n",
       "      <td>3.49</td>\n",
       "      <td>0.24</td>\n",
       "      <td>2.18</td>\n",
       "      <td>7.80</td>\n",
       "      <td>0.86</td>\n",
       "      <td>3.45</td>\n",
       "      <td>1480</td>\n",
       "    </tr>\n",
       "    <tr>\n",
       "      <th>3</th>\n",
       "      <td>1</td>\n",
       "      <td>13.24</td>\n",
       "      <td>2.59</td>\n",
       "      <td>2.87</td>\n",
       "      <td>21.0</td>\n",
       "      <td>118</td>\n",
       "      <td>2.80</td>\n",
       "      <td>2.69</td>\n",
       "      <td>0.39</td>\n",
       "      <td>1.82</td>\n",
       "      <td>4.32</td>\n",
       "      <td>1.04</td>\n",
       "      <td>2.93</td>\n",
       "      <td>735</td>\n",
       "    </tr>\n",
       "    <tr>\n",
       "      <th>4</th>\n",
       "      <td>1</td>\n",
       "      <td>14.20</td>\n",
       "      <td>1.76</td>\n",
       "      <td>2.45</td>\n",
       "      <td>15.2</td>\n",
       "      <td>112</td>\n",
       "      <td>3.27</td>\n",
       "      <td>3.39</td>\n",
       "      <td>0.34</td>\n",
       "      <td>1.97</td>\n",
       "      <td>6.75</td>\n",
       "      <td>1.05</td>\n",
       "      <td>2.85</td>\n",
       "      <td>1450</td>\n",
       "    </tr>\n",
       "  </tbody>\n",
       "</table>\n",
       "</div>"
      ],
      "text/plain": [
       "   class  alcool  acido_malico  cinzas  alcalinidade_das_cinzas  magnesio  \\\n",
       "0      1   13.20          1.78    2.14                     11.2       100   \n",
       "1      1   13.16          2.36    2.67                     18.6       101   \n",
       "2      1   14.37          1.95    2.50                     16.8       113   \n",
       "3      1   13.24          2.59    2.87                     21.0       118   \n",
       "4      1   14.20          1.76    2.45                     15.2       112   \n",
       "\n",
       "   total_fenol  flavenoides  Nãoflavanóides_fenóis  proantocianidinas  \\\n",
       "0         2.65         2.76                   0.26               1.28   \n",
       "1         2.80         3.24                   0.30               2.81   \n",
       "2         3.85         3.49                   0.24               2.18   \n",
       "3         2.80         2.69                   0.39               1.82   \n",
       "4         3.27         3.39                   0.34               1.97   \n",
       "\n",
       "   Intensidade_cor   cor  diluicao  prolina  \n",
       "0             4.38  1.05      3.40     1050  \n",
       "1             5.68  1.03      3.17     1185  \n",
       "2             7.80  0.86      3.45     1480  \n",
       "3             4.32  1.04      2.93      735  \n",
       "4             6.75  1.05      2.85     1450  "
      ]
     },
     "metadata": {},
     "output_type": "display_data"
    },
    {
     "data": {
      "text/html": [
       "<div>\n",
       "<style scoped>\n",
       "    .dataframe tbody tr th:only-of-type {\n",
       "        vertical-align: middle;\n",
       "    }\n",
       "\n",
       "    .dataframe tbody tr th {\n",
       "        vertical-align: top;\n",
       "    }\n",
       "\n",
       "    .dataframe thead th {\n",
       "        text-align: right;\n",
       "    }\n",
       "</style>\n",
       "<table border=\"1\" class=\"dataframe\">\n",
       "  <thead>\n",
       "    <tr style=\"text-align: right;\">\n",
       "      <th></th>\n",
       "      <th>class</th>\n",
       "      <th>alcool</th>\n",
       "      <th>acido_malico</th>\n",
       "      <th>cinzas</th>\n",
       "      <th>alcalinidade_das_cinzas</th>\n",
       "      <th>magnesio</th>\n",
       "      <th>total_fenol</th>\n",
       "      <th>flavenoides</th>\n",
       "      <th>Nãoflavanóides_fenóis</th>\n",
       "      <th>proantocianidinas</th>\n",
       "      <th>Intensidade_cor</th>\n",
       "      <th>cor</th>\n",
       "      <th>diluicao</th>\n",
       "      <th>prolina</th>\n",
       "    </tr>\n",
       "  </thead>\n",
       "  <tbody>\n",
       "    <tr>\n",
       "      <th>172</th>\n",
       "      <td>3</td>\n",
       "      <td>13.71</td>\n",
       "      <td>5.65</td>\n",
       "      <td>2.45</td>\n",
       "      <td>20.5</td>\n",
       "      <td>95</td>\n",
       "      <td>1.68</td>\n",
       "      <td>0.61</td>\n",
       "      <td>0.52</td>\n",
       "      <td>1.06</td>\n",
       "      <td>7.7</td>\n",
       "      <td>0.64</td>\n",
       "      <td>1.74</td>\n",
       "      <td>740</td>\n",
       "    </tr>\n",
       "    <tr>\n",
       "      <th>173</th>\n",
       "      <td>3</td>\n",
       "      <td>13.40</td>\n",
       "      <td>3.91</td>\n",
       "      <td>2.48</td>\n",
       "      <td>23.0</td>\n",
       "      <td>102</td>\n",
       "      <td>1.80</td>\n",
       "      <td>0.75</td>\n",
       "      <td>0.43</td>\n",
       "      <td>1.41</td>\n",
       "      <td>7.3</td>\n",
       "      <td>0.70</td>\n",
       "      <td>1.56</td>\n",
       "      <td>750</td>\n",
       "    </tr>\n",
       "    <tr>\n",
       "      <th>174</th>\n",
       "      <td>3</td>\n",
       "      <td>13.27</td>\n",
       "      <td>4.28</td>\n",
       "      <td>2.26</td>\n",
       "      <td>20.0</td>\n",
       "      <td>120</td>\n",
       "      <td>1.59</td>\n",
       "      <td>0.69</td>\n",
       "      <td>0.43</td>\n",
       "      <td>1.35</td>\n",
       "      <td>10.2</td>\n",
       "      <td>0.59</td>\n",
       "      <td>1.56</td>\n",
       "      <td>835</td>\n",
       "    </tr>\n",
       "    <tr>\n",
       "      <th>175</th>\n",
       "      <td>3</td>\n",
       "      <td>13.17</td>\n",
       "      <td>2.59</td>\n",
       "      <td>2.37</td>\n",
       "      <td>20.0</td>\n",
       "      <td>120</td>\n",
       "      <td>1.65</td>\n",
       "      <td>0.68</td>\n",
       "      <td>0.53</td>\n",
       "      <td>1.46</td>\n",
       "      <td>9.3</td>\n",
       "      <td>0.60</td>\n",
       "      <td>1.62</td>\n",
       "      <td>840</td>\n",
       "    </tr>\n",
       "    <tr>\n",
       "      <th>176</th>\n",
       "      <td>3</td>\n",
       "      <td>14.13</td>\n",
       "      <td>4.10</td>\n",
       "      <td>2.74</td>\n",
       "      <td>24.5</td>\n",
       "      <td>96</td>\n",
       "      <td>2.05</td>\n",
       "      <td>0.76</td>\n",
       "      <td>0.56</td>\n",
       "      <td>1.35</td>\n",
       "      <td>9.2</td>\n",
       "      <td>0.61</td>\n",
       "      <td>1.60</td>\n",
       "      <td>560</td>\n",
       "    </tr>\n",
       "  </tbody>\n",
       "</table>\n",
       "</div>"
      ],
      "text/plain": [
       "     class  alcool  acido_malico  cinzas  alcalinidade_das_cinzas  magnesio  \\\n",
       "172      3   13.71          5.65    2.45                     20.5        95   \n",
       "173      3   13.40          3.91    2.48                     23.0       102   \n",
       "174      3   13.27          4.28    2.26                     20.0       120   \n",
       "175      3   13.17          2.59    2.37                     20.0       120   \n",
       "176      3   14.13          4.10    2.74                     24.5        96   \n",
       "\n",
       "     total_fenol  flavenoides  Nãoflavanóides_fenóis  proantocianidinas  \\\n",
       "172         1.68         0.61                   0.52               1.06   \n",
       "173         1.80         0.75                   0.43               1.41   \n",
       "174         1.59         0.69                   0.43               1.35   \n",
       "175         1.65         0.68                   0.53               1.46   \n",
       "176         2.05         0.76                   0.56               1.35   \n",
       "\n",
       "     Intensidade_cor   cor  diluicao  prolina  \n",
       "172              7.7  0.64      1.74      740  \n",
       "173              7.3  0.70      1.56      750  \n",
       "174             10.2  0.59      1.56      835  \n",
       "175              9.3  0.60      1.62      840  \n",
       "176              9.2  0.61      1.60      560  "
      ]
     },
     "metadata": {},
     "output_type": "display_data"
    }
   ],
   "source": [
    "print(f'Linhas: {df.shape[0]} \\nColunas: {df.shape[1]}')\n",
    "display(df.head())\n",
    "display(df.tail())\n"
   ]
  },
  {
   "cell_type": "markdown",
   "metadata": {},
   "source": [
    "A seguir é possivel verificar o tipo de dados de cada coluna e quantidade de valores nulos.\n",
    "\n",
    "A base de dados possui um total de 177 linhas e nenhum valor nulo."
   ]
  },
  {
   "cell_type": "code",
   "execution_count": 3,
   "metadata": {},
   "outputs": [
    {
     "name": "stdout",
     "output_type": "stream",
     "text": [
      "<class 'pandas.core.frame.DataFrame'>\n",
      "RangeIndex: 177 entries, 0 to 176\n",
      "Data columns (total 14 columns):\n",
      " #   Column                   Non-Null Count  Dtype  \n",
      "---  ------                   --------------  -----  \n",
      " 0   class                    177 non-null    int64  \n",
      " 1   alcool                   177 non-null    float64\n",
      " 2   acido_malico             177 non-null    float64\n",
      " 3   cinzas                   177 non-null    float64\n",
      " 4   alcalinidade_das_cinzas  177 non-null    float64\n",
      " 5   magnesio                 177 non-null    int64  \n",
      " 6   total_fenol              177 non-null    float64\n",
      " 7   flavenoides              177 non-null    float64\n",
      " 8   Nãoflavanóides_fenóis    177 non-null    float64\n",
      " 9   proantocianidinas        177 non-null    float64\n",
      " 10  Intensidade_cor          177 non-null    float64\n",
      " 11  cor                      177 non-null    float64\n",
      " 12  diluicao                 177 non-null    float64\n",
      " 13  prolina                  177 non-null    int64  \n",
      "dtypes: float64(11), int64(3)\n",
      "memory usage: 19.5 KB\n"
     ]
    }
   ],
   "source": [
    "df.info()"
   ]
  },
  {
   "cell_type": "markdown",
   "metadata": {},
   "source": [
    "Visualizando dados estatísticos"
   ]
  },
  {
   "cell_type": "code",
   "execution_count": 4,
   "metadata": {},
   "outputs": [
    {
     "data": {
      "text/html": [
       "<div>\n",
       "<style scoped>\n",
       "    .dataframe tbody tr th:only-of-type {\n",
       "        vertical-align: middle;\n",
       "    }\n",
       "\n",
       "    .dataframe tbody tr th {\n",
       "        vertical-align: top;\n",
       "    }\n",
       "\n",
       "    .dataframe thead th {\n",
       "        text-align: right;\n",
       "    }\n",
       "</style>\n",
       "<table border=\"1\" class=\"dataframe\">\n",
       "  <thead>\n",
       "    <tr style=\"text-align: right;\">\n",
       "      <th></th>\n",
       "      <th>class</th>\n",
       "      <th>alcool</th>\n",
       "      <th>acido_malico</th>\n",
       "      <th>cinzas</th>\n",
       "      <th>alcalinidade_das_cinzas</th>\n",
       "      <th>magnesio</th>\n",
       "      <th>total_fenol</th>\n",
       "      <th>flavenoides</th>\n",
       "      <th>Nãoflavanóides_fenóis</th>\n",
       "      <th>proantocianidinas</th>\n",
       "      <th>Intensidade_cor</th>\n",
       "      <th>cor</th>\n",
       "      <th>diluicao</th>\n",
       "      <th>prolina</th>\n",
       "    </tr>\n",
       "  </thead>\n",
       "  <tbody>\n",
       "    <tr>\n",
       "      <th>count</th>\n",
       "      <td>177.000000</td>\n",
       "      <td>177.000000</td>\n",
       "      <td>177.000000</td>\n",
       "      <td>177.000000</td>\n",
       "      <td>177.000000</td>\n",
       "      <td>177.000000</td>\n",
       "      <td>177.000000</td>\n",
       "      <td>177.000000</td>\n",
       "      <td>177.000000</td>\n",
       "      <td>177.000000</td>\n",
       "      <td>177.000000</td>\n",
       "      <td>177.000000</td>\n",
       "      <td>177.000000</td>\n",
       "      <td>177.000000</td>\n",
       "    </tr>\n",
       "    <tr>\n",
       "      <th>mean</th>\n",
       "      <td>1.943503</td>\n",
       "      <td>12.993672</td>\n",
       "      <td>2.339887</td>\n",
       "      <td>2.366158</td>\n",
       "      <td>19.516949</td>\n",
       "      <td>99.587571</td>\n",
       "      <td>2.292260</td>\n",
       "      <td>2.023446</td>\n",
       "      <td>0.362316</td>\n",
       "      <td>1.586949</td>\n",
       "      <td>5.054802</td>\n",
       "      <td>0.956983</td>\n",
       "      <td>2.604294</td>\n",
       "      <td>745.096045</td>\n",
       "    </tr>\n",
       "    <tr>\n",
       "      <th>std</th>\n",
       "      <td>0.773991</td>\n",
       "      <td>0.808808</td>\n",
       "      <td>1.119314</td>\n",
       "      <td>0.275080</td>\n",
       "      <td>3.336071</td>\n",
       "      <td>14.174018</td>\n",
       "      <td>0.626465</td>\n",
       "      <td>0.998658</td>\n",
       "      <td>0.124653</td>\n",
       "      <td>0.571545</td>\n",
       "      <td>2.324446</td>\n",
       "      <td>0.229135</td>\n",
       "      <td>0.705103</td>\n",
       "      <td>314.884046</td>\n",
       "    </tr>\n",
       "    <tr>\n",
       "      <th>min</th>\n",
       "      <td>1.000000</td>\n",
       "      <td>11.030000</td>\n",
       "      <td>0.740000</td>\n",
       "      <td>1.360000</td>\n",
       "      <td>10.600000</td>\n",
       "      <td>70.000000</td>\n",
       "      <td>0.980000</td>\n",
       "      <td>0.340000</td>\n",
       "      <td>0.130000</td>\n",
       "      <td>0.410000</td>\n",
       "      <td>1.280000</td>\n",
       "      <td>0.480000</td>\n",
       "      <td>1.270000</td>\n",
       "      <td>278.000000</td>\n",
       "    </tr>\n",
       "    <tr>\n",
       "      <th>25%</th>\n",
       "      <td>1.000000</td>\n",
       "      <td>12.360000</td>\n",
       "      <td>1.600000</td>\n",
       "      <td>2.210000</td>\n",
       "      <td>17.200000</td>\n",
       "      <td>88.000000</td>\n",
       "      <td>1.740000</td>\n",
       "      <td>1.200000</td>\n",
       "      <td>0.270000</td>\n",
       "      <td>1.250000</td>\n",
       "      <td>3.210000</td>\n",
       "      <td>0.780000</td>\n",
       "      <td>1.930000</td>\n",
       "      <td>500.000000</td>\n",
       "    </tr>\n",
       "    <tr>\n",
       "      <th>50%</th>\n",
       "      <td>2.000000</td>\n",
       "      <td>13.050000</td>\n",
       "      <td>1.870000</td>\n",
       "      <td>2.360000</td>\n",
       "      <td>19.500000</td>\n",
       "      <td>98.000000</td>\n",
       "      <td>2.350000</td>\n",
       "      <td>2.130000</td>\n",
       "      <td>0.340000</td>\n",
       "      <td>1.550000</td>\n",
       "      <td>4.680000</td>\n",
       "      <td>0.960000</td>\n",
       "      <td>2.780000</td>\n",
       "      <td>672.000000</td>\n",
       "    </tr>\n",
       "    <tr>\n",
       "      <th>75%</th>\n",
       "      <td>3.000000</td>\n",
       "      <td>13.670000</td>\n",
       "      <td>3.100000</td>\n",
       "      <td>2.560000</td>\n",
       "      <td>21.500000</td>\n",
       "      <td>107.000000</td>\n",
       "      <td>2.800000</td>\n",
       "      <td>2.860000</td>\n",
       "      <td>0.440000</td>\n",
       "      <td>1.950000</td>\n",
       "      <td>6.200000</td>\n",
       "      <td>1.120000</td>\n",
       "      <td>3.170000</td>\n",
       "      <td>985.000000</td>\n",
       "    </tr>\n",
       "    <tr>\n",
       "      <th>max</th>\n",
       "      <td>3.000000</td>\n",
       "      <td>14.830000</td>\n",
       "      <td>5.800000</td>\n",
       "      <td>3.230000</td>\n",
       "      <td>30.000000</td>\n",
       "      <td>162.000000</td>\n",
       "      <td>3.880000</td>\n",
       "      <td>5.080000</td>\n",
       "      <td>0.660000</td>\n",
       "      <td>3.580000</td>\n",
       "      <td>13.000000</td>\n",
       "      <td>1.710000</td>\n",
       "      <td>4.000000</td>\n",
       "      <td>1680.000000</td>\n",
       "    </tr>\n",
       "  </tbody>\n",
       "</table>\n",
       "</div>"
      ],
      "text/plain": [
       "            class      alcool  acido_malico      cinzas  \\\n",
       "count  177.000000  177.000000    177.000000  177.000000   \n",
       "mean     1.943503   12.993672      2.339887    2.366158   \n",
       "std      0.773991    0.808808      1.119314    0.275080   \n",
       "min      1.000000   11.030000      0.740000    1.360000   \n",
       "25%      1.000000   12.360000      1.600000    2.210000   \n",
       "50%      2.000000   13.050000      1.870000    2.360000   \n",
       "75%      3.000000   13.670000      3.100000    2.560000   \n",
       "max      3.000000   14.830000      5.800000    3.230000   \n",
       "\n",
       "       alcalinidade_das_cinzas    magnesio  total_fenol  flavenoides  \\\n",
       "count               177.000000  177.000000   177.000000   177.000000   \n",
       "mean                 19.516949   99.587571     2.292260     2.023446   \n",
       "std                   3.336071   14.174018     0.626465     0.998658   \n",
       "min                  10.600000   70.000000     0.980000     0.340000   \n",
       "25%                  17.200000   88.000000     1.740000     1.200000   \n",
       "50%                  19.500000   98.000000     2.350000     2.130000   \n",
       "75%                  21.500000  107.000000     2.800000     2.860000   \n",
       "max                  30.000000  162.000000     3.880000     5.080000   \n",
       "\n",
       "       Nãoflavanóides_fenóis  proantocianidinas  Intensidade_cor         cor  \\\n",
       "count             177.000000         177.000000       177.000000  177.000000   \n",
       "mean                0.362316           1.586949         5.054802    0.956983   \n",
       "std                 0.124653           0.571545         2.324446    0.229135   \n",
       "min                 0.130000           0.410000         1.280000    0.480000   \n",
       "25%                 0.270000           1.250000         3.210000    0.780000   \n",
       "50%                 0.340000           1.550000         4.680000    0.960000   \n",
       "75%                 0.440000           1.950000         6.200000    1.120000   \n",
       "max                 0.660000           3.580000        13.000000    1.710000   \n",
       "\n",
       "         diluicao      prolina  \n",
       "count  177.000000   177.000000  \n",
       "mean     2.604294   745.096045  \n",
       "std      0.705103   314.884046  \n",
       "min      1.270000   278.000000  \n",
       "25%      1.930000   500.000000  \n",
       "50%      2.780000   672.000000  \n",
       "75%      3.170000   985.000000  \n",
       "max      4.000000  1680.000000  "
      ]
     },
     "execution_count": 4,
     "metadata": {},
     "output_type": "execute_result"
    }
   ],
   "source": [
    "df.describe()"
   ]
  },
  {
   "cell_type": "markdown",
   "metadata": {},
   "source": [
    "Como vimos anteriormente, nosso Datraframe possui um total de 14 colunas, é preciso descobrir quais valores serão importantes para o modelo.\n",
    "\n",
    "A seguir foi plotado um mapa de calor com a correlação de cada variavel."
   ]
  },
  {
   "cell_type": "code",
   "execution_count": 5,
   "metadata": {},
   "outputs": [
    {
     "data": {
      "application/vnd.plotly.v1+json": {
       "config": {
        "plotlyServerURL": "https://plot.ly"
       },
       "data": [
        {
         "coloraxis": "coloraxis",
         "hovertemplate": "x: %{x}<br>y: %{y}<br>color: %{z}<extra></extra>",
         "name": "0",
         "texttemplate": "%{z}",
         "type": "heatmap",
         "x": [
          "class",
          "alcool",
          "acido_malico",
          "cinzas",
          "alcalinidade_das_cinzas",
          "magnesio",
          "total_fenol",
          "flavenoides",
          "Nãoflavanóides_fenóis",
          "proantocianidinas",
          "Intensidade_cor",
          "cor",
          "diluicao",
          "prolina"
         ],
         "xaxis": "x",
         "y": [
          "class",
          "alcool",
          "acido_malico",
          "cinzas",
          "alcalinidade_das_cinzas",
          "magnesio",
          "total_fenol",
          "flavenoides",
          "Nãoflavanóides_fenóis",
          "proantocianidinas",
          "Intensidade_cor",
          "cor",
          "diluicao",
          "prolina"
         ],
         "yaxis": "y",
         "z": [
          [
           1,
           -0.32123754922323833,
           0.43612740336635014,
           -0.04826033576260699,
           0.5139632041668095,
           -0.1989436069377663,
           -0.7179328001767243,
           -0.8464852842243951,
           0.4872146380137057,
           -0.4948866404809459,
           0.2685621551708587,
           -0.6176899511526054,
           -0.7864276921176252,
           -0.6312271781764447
          ],
          [
           -0.32123754922323833,
           1,
           0.09996297573855448,
           0.2109643952906095,
           -0.3033498569134927,
           0.2587423292990776,
           0.2845430262554578,
           0.23013326307238424,
           -0.1514454456476604,
           0.1275607167058131,
           0.5478829286096667,
           -0.07537498473897612,
           0.05741673044481253,
           0.6410675983238124
          ],
          [
           0.43612740336635014,
           0.09996297573855448,
           1,
           0.16495504032026062,
           0.286147679111587,
           -0.049049031345721944,
           -0.3335117538884202,
           -0.4093241001840572,
           0.29150054457187774,
           -0.2179749904906032,
           0.2500530553119461,
           -0.5608539580012498,
           -0.36671960179283125,
           -0.18951166947724735
          ],
          [
           -0.04826033576260699,
           0.2109643952906095,
           0.16495504032026062,
           1,
           0.4466977554744613,
           0.2871071109025326,
           0.1281755704837669,
           0.11408352772966208,
           0.18735399771981173,
           0.008081622942463715,
           0.2586428876418863,
           -0.07518101049397206,
           0.0015033491654909113,
           0.22297931920770192
          ],
          [
           0.5139632041668095,
           -0.3033498569134927,
           0.286147679111587,
           0.4466977554744613,
           1,
           -0.07170686291005338,
           -0.3175825855180563,
           -0.34692206969425055,
           0.3593951147578103,
           -0.1907787608034267,
           0.020478231595639617,
           -0.272718583174224,
           -0.2681856298717107,
           -0.4368578143682419
          ],
          [
           -0.1989436069377663,
           0.2587423292990776,
           -0.049049031345721944,
           0.2871071109025326,
           -0.07170686291005338,
           1,
           0.2082004250180893,
           0.18710135464786304,
           -0.2520910961858568,
           0.22650394131584184,
           0.19933692940214515,
           0.05204237752219305,
           0.04696128872634008,
           0.387541580211784
          ],
          [
           -0.7179328001767243,
           0.2845430262554578,
           -0.3335117538884202,
           0.1281755704837669,
           -0.3175825855180563,
           0.2082004250180893,
           1,
           0.864045539878481,
           -0.4483005112225797,
           0.6105327207600646,
           -0.05640136547067047,
           0.4329873891206267,
           0.6995663875661362,
           0.4958391536882909
          ],
          [
           -0.8464852842243951,
           0.23013326307238424,
           -0.4093241001840572,
           0.11408352772966208,
           -0.34692206969425055,
           0.18710135464786304,
           0.864045539878481,
           1,
           -0.5363258541851847,
           0.6502540047592538,
           -0.17441056235224428,
           0.5432075261246868,
           0.7863720132104677,
           0.4911803113061393
          ],
          [
           0.4872146380137057,
           -0.1514454456476604,
           0.29150054457187774,
           0.18735399771981173,
           0.3593951147578103,
           -0.2520910961858568,
           -0.4483005112225797,
           -0.5363258541851847,
           1,
           -0.3632684484352135,
           0.14019244643132575,
           -0.2617087131663184,
           -0.501859419767396,
           -0.3088857918342163
          ],
          [
           -0.4948866404809459,
           0.1275607167058131,
           -0.2179749904906032,
           0.008081622942463715,
           -0.1907787608034267,
           0.22650394131584184,
           0.6105327207600646,
           0.6502540047592538,
           -0.3632684484352135,
           1,
           -0.02711185784962628,
           0.29439692304111864,
           0.5134152104298108,
           0.32573149433784543
          ],
          [
           0.2685621551708587,
           0.5478829286096667,
           0.2500530553119461,
           0.2586428876418863,
           0.020478231595639617,
           0.19933692940214515,
           -0.05640136547067047,
           -0.17441056235224428,
           0.14019244643132575,
           -0.02711185784962628,
           1,
           -0.5226154587311495,
           -0.43574397420892425,
           0.31563211323860685
          ],
          [
           -0.6176899511526054,
           -0.07537498473897612,
           -0.5608539580012498,
           -0.07518101049397206,
           -0.272718583174224,
           0.05204237752219305,
           0.4329873891206267,
           0.5432075261246868,
           -0.2617087131663184,
           0.29439692304111864,
           -0.5226154587311495,
           1,
           0.5673952746004933,
           0.23487929061776422
          ],
          [
           -0.7864276921176252,
           0.05741673044481253,
           -0.36671960179283125,
           0.0015033491654909113,
           -0.2681856298717107,
           0.04696128872634008,
           0.6995663875661362,
           0.7863720132104677,
           -0.501859419767396,
           0.5134152104298108,
           -0.43574397420892425,
           0.5673952746004933,
           1,
           0.3060313089743112
          ],
          [
           -0.6312271781764447,
           0.6410675983238124,
           -0.18951166947724735,
           0.22297931920770192,
           -0.4368578143682419,
           0.387541580211784,
           0.4958391536882909,
           0.4911803113061393,
           -0.3088857918342163,
           0.32573149433784543,
           0.31563211323860685,
           0.23487929061776422,
           0.3060313089743112,
           1
          ]
         ]
        }
       ],
       "layout": {
        "coloraxis": {
         "colorscale": [
          [
           0,
           "#0d0887"
          ],
          [
           0.1111111111111111,
           "#46039f"
          ],
          [
           0.2222222222222222,
           "#7201a8"
          ],
          [
           0.3333333333333333,
           "#9c179e"
          ],
          [
           0.4444444444444444,
           "#bd3786"
          ],
          [
           0.5555555555555556,
           "#d8576b"
          ],
          [
           0.6666666666666666,
           "#ed7953"
          ],
          [
           0.7777777777777778,
           "#fb9f3a"
          ],
          [
           0.8888888888888888,
           "#fdca26"
          ],
          [
           1,
           "#f0f921"
          ]
         ]
        },
        "height": 900,
        "margin": {
         "t": 60
        },
        "template": {
         "data": {
          "bar": [
           {
            "error_x": {
             "color": "#2a3f5f"
            },
            "error_y": {
             "color": "#2a3f5f"
            },
            "marker": {
             "line": {
              "color": "#E5ECF6",
              "width": 0.5
             },
             "pattern": {
              "fillmode": "overlay",
              "size": 10,
              "solidity": 0.2
             }
            },
            "type": "bar"
           }
          ],
          "barpolar": [
           {
            "marker": {
             "line": {
              "color": "#E5ECF6",
              "width": 0.5
             },
             "pattern": {
              "fillmode": "overlay",
              "size": 10,
              "solidity": 0.2
             }
            },
            "type": "barpolar"
           }
          ],
          "carpet": [
           {
            "aaxis": {
             "endlinecolor": "#2a3f5f",
             "gridcolor": "white",
             "linecolor": "white",
             "minorgridcolor": "white",
             "startlinecolor": "#2a3f5f"
            },
            "baxis": {
             "endlinecolor": "#2a3f5f",
             "gridcolor": "white",
             "linecolor": "white",
             "minorgridcolor": "white",
             "startlinecolor": "#2a3f5f"
            },
            "type": "carpet"
           }
          ],
          "choropleth": [
           {
            "colorbar": {
             "outlinewidth": 0,
             "ticks": ""
            },
            "type": "choropleth"
           }
          ],
          "contour": [
           {
            "colorbar": {
             "outlinewidth": 0,
             "ticks": ""
            },
            "colorscale": [
             [
              0,
              "#0d0887"
             ],
             [
              0.1111111111111111,
              "#46039f"
             ],
             [
              0.2222222222222222,
              "#7201a8"
             ],
             [
              0.3333333333333333,
              "#9c179e"
             ],
             [
              0.4444444444444444,
              "#bd3786"
             ],
             [
              0.5555555555555556,
              "#d8576b"
             ],
             [
              0.6666666666666666,
              "#ed7953"
             ],
             [
              0.7777777777777778,
              "#fb9f3a"
             ],
             [
              0.8888888888888888,
              "#fdca26"
             ],
             [
              1,
              "#f0f921"
             ]
            ],
            "type": "contour"
           }
          ],
          "contourcarpet": [
           {
            "colorbar": {
             "outlinewidth": 0,
             "ticks": ""
            },
            "type": "contourcarpet"
           }
          ],
          "heatmap": [
           {
            "colorbar": {
             "outlinewidth": 0,
             "ticks": ""
            },
            "colorscale": [
             [
              0,
              "#0d0887"
             ],
             [
              0.1111111111111111,
              "#46039f"
             ],
             [
              0.2222222222222222,
              "#7201a8"
             ],
             [
              0.3333333333333333,
              "#9c179e"
             ],
             [
              0.4444444444444444,
              "#bd3786"
             ],
             [
              0.5555555555555556,
              "#d8576b"
             ],
             [
              0.6666666666666666,
              "#ed7953"
             ],
             [
              0.7777777777777778,
              "#fb9f3a"
             ],
             [
              0.8888888888888888,
              "#fdca26"
             ],
             [
              1,
              "#f0f921"
             ]
            ],
            "type": "heatmap"
           }
          ],
          "heatmapgl": [
           {
            "colorbar": {
             "outlinewidth": 0,
             "ticks": ""
            },
            "colorscale": [
             [
              0,
              "#0d0887"
             ],
             [
              0.1111111111111111,
              "#46039f"
             ],
             [
              0.2222222222222222,
              "#7201a8"
             ],
             [
              0.3333333333333333,
              "#9c179e"
             ],
             [
              0.4444444444444444,
              "#bd3786"
             ],
             [
              0.5555555555555556,
              "#d8576b"
             ],
             [
              0.6666666666666666,
              "#ed7953"
             ],
             [
              0.7777777777777778,
              "#fb9f3a"
             ],
             [
              0.8888888888888888,
              "#fdca26"
             ],
             [
              1,
              "#f0f921"
             ]
            ],
            "type": "heatmapgl"
           }
          ],
          "histogram": [
           {
            "marker": {
             "pattern": {
              "fillmode": "overlay",
              "size": 10,
              "solidity": 0.2
             }
            },
            "type": "histogram"
           }
          ],
          "histogram2d": [
           {
            "colorbar": {
             "outlinewidth": 0,
             "ticks": ""
            },
            "colorscale": [
             [
              0,
              "#0d0887"
             ],
             [
              0.1111111111111111,
              "#46039f"
             ],
             [
              0.2222222222222222,
              "#7201a8"
             ],
             [
              0.3333333333333333,
              "#9c179e"
             ],
             [
              0.4444444444444444,
              "#bd3786"
             ],
             [
              0.5555555555555556,
              "#d8576b"
             ],
             [
              0.6666666666666666,
              "#ed7953"
             ],
             [
              0.7777777777777778,
              "#fb9f3a"
             ],
             [
              0.8888888888888888,
              "#fdca26"
             ],
             [
              1,
              "#f0f921"
             ]
            ],
            "type": "histogram2d"
           }
          ],
          "histogram2dcontour": [
           {
            "colorbar": {
             "outlinewidth": 0,
             "ticks": ""
            },
            "colorscale": [
             [
              0,
              "#0d0887"
             ],
             [
              0.1111111111111111,
              "#46039f"
             ],
             [
              0.2222222222222222,
              "#7201a8"
             ],
             [
              0.3333333333333333,
              "#9c179e"
             ],
             [
              0.4444444444444444,
              "#bd3786"
             ],
             [
              0.5555555555555556,
              "#d8576b"
             ],
             [
              0.6666666666666666,
              "#ed7953"
             ],
             [
              0.7777777777777778,
              "#fb9f3a"
             ],
             [
              0.8888888888888888,
              "#fdca26"
             ],
             [
              1,
              "#f0f921"
             ]
            ],
            "type": "histogram2dcontour"
           }
          ],
          "mesh3d": [
           {
            "colorbar": {
             "outlinewidth": 0,
             "ticks": ""
            },
            "type": "mesh3d"
           }
          ],
          "parcoords": [
           {
            "line": {
             "colorbar": {
              "outlinewidth": 0,
              "ticks": ""
             }
            },
            "type": "parcoords"
           }
          ],
          "pie": [
           {
            "automargin": true,
            "type": "pie"
           }
          ],
          "scatter": [
           {
            "fillpattern": {
             "fillmode": "overlay",
             "size": 10,
             "solidity": 0.2
            },
            "type": "scatter"
           }
          ],
          "scatter3d": [
           {
            "line": {
             "colorbar": {
              "outlinewidth": 0,
              "ticks": ""
             }
            },
            "marker": {
             "colorbar": {
              "outlinewidth": 0,
              "ticks": ""
             }
            },
            "type": "scatter3d"
           }
          ],
          "scattercarpet": [
           {
            "marker": {
             "colorbar": {
              "outlinewidth": 0,
              "ticks": ""
             }
            },
            "type": "scattercarpet"
           }
          ],
          "scattergeo": [
           {
            "marker": {
             "colorbar": {
              "outlinewidth": 0,
              "ticks": ""
             }
            },
            "type": "scattergeo"
           }
          ],
          "scattergl": [
           {
            "marker": {
             "colorbar": {
              "outlinewidth": 0,
              "ticks": ""
             }
            },
            "type": "scattergl"
           }
          ],
          "scattermapbox": [
           {
            "marker": {
             "colorbar": {
              "outlinewidth": 0,
              "ticks": ""
             }
            },
            "type": "scattermapbox"
           }
          ],
          "scatterpolar": [
           {
            "marker": {
             "colorbar": {
              "outlinewidth": 0,
              "ticks": ""
             }
            },
            "type": "scatterpolar"
           }
          ],
          "scatterpolargl": [
           {
            "marker": {
             "colorbar": {
              "outlinewidth": 0,
              "ticks": ""
             }
            },
            "type": "scatterpolargl"
           }
          ],
          "scatterternary": [
           {
            "marker": {
             "colorbar": {
              "outlinewidth": 0,
              "ticks": ""
             }
            },
            "type": "scatterternary"
           }
          ],
          "surface": [
           {
            "colorbar": {
             "outlinewidth": 0,
             "ticks": ""
            },
            "colorscale": [
             [
              0,
              "#0d0887"
             ],
             [
              0.1111111111111111,
              "#46039f"
             ],
             [
              0.2222222222222222,
              "#7201a8"
             ],
             [
              0.3333333333333333,
              "#9c179e"
             ],
             [
              0.4444444444444444,
              "#bd3786"
             ],
             [
              0.5555555555555556,
              "#d8576b"
             ],
             [
              0.6666666666666666,
              "#ed7953"
             ],
             [
              0.7777777777777778,
              "#fb9f3a"
             ],
             [
              0.8888888888888888,
              "#fdca26"
             ],
             [
              1,
              "#f0f921"
             ]
            ],
            "type": "surface"
           }
          ],
          "table": [
           {
            "cells": {
             "fill": {
              "color": "#EBF0F8"
             },
             "line": {
              "color": "white"
             }
            },
            "header": {
             "fill": {
              "color": "#C8D4E3"
             },
             "line": {
              "color": "white"
             }
            },
            "type": "table"
           }
          ]
         },
         "layout": {
          "annotationdefaults": {
           "arrowcolor": "#2a3f5f",
           "arrowhead": 0,
           "arrowwidth": 1
          },
          "autotypenumbers": "strict",
          "coloraxis": {
           "colorbar": {
            "outlinewidth": 0,
            "ticks": ""
           }
          },
          "colorscale": {
           "diverging": [
            [
             0,
             "#8e0152"
            ],
            [
             0.1,
             "#c51b7d"
            ],
            [
             0.2,
             "#de77ae"
            ],
            [
             0.3,
             "#f1b6da"
            ],
            [
             0.4,
             "#fde0ef"
            ],
            [
             0.5,
             "#f7f7f7"
            ],
            [
             0.6,
             "#e6f5d0"
            ],
            [
             0.7,
             "#b8e186"
            ],
            [
             0.8,
             "#7fbc41"
            ],
            [
             0.9,
             "#4d9221"
            ],
            [
             1,
             "#276419"
            ]
           ],
           "sequential": [
            [
             0,
             "#0d0887"
            ],
            [
             0.1111111111111111,
             "#46039f"
            ],
            [
             0.2222222222222222,
             "#7201a8"
            ],
            [
             0.3333333333333333,
             "#9c179e"
            ],
            [
             0.4444444444444444,
             "#bd3786"
            ],
            [
             0.5555555555555556,
             "#d8576b"
            ],
            [
             0.6666666666666666,
             "#ed7953"
            ],
            [
             0.7777777777777778,
             "#fb9f3a"
            ],
            [
             0.8888888888888888,
             "#fdca26"
            ],
            [
             1,
             "#f0f921"
            ]
           ],
           "sequentialminus": [
            [
             0,
             "#0d0887"
            ],
            [
             0.1111111111111111,
             "#46039f"
            ],
            [
             0.2222222222222222,
             "#7201a8"
            ],
            [
             0.3333333333333333,
             "#9c179e"
            ],
            [
             0.4444444444444444,
             "#bd3786"
            ],
            [
             0.5555555555555556,
             "#d8576b"
            ],
            [
             0.6666666666666666,
             "#ed7953"
            ],
            [
             0.7777777777777778,
             "#fb9f3a"
            ],
            [
             0.8888888888888888,
             "#fdca26"
            ],
            [
             1,
             "#f0f921"
            ]
           ]
          },
          "colorway": [
           "#636efa",
           "#EF553B",
           "#00cc96",
           "#ab63fa",
           "#FFA15A",
           "#19d3f3",
           "#FF6692",
           "#B6E880",
           "#FF97FF",
           "#FECB52"
          ],
          "font": {
           "color": "#2a3f5f"
          },
          "geo": {
           "bgcolor": "white",
           "lakecolor": "white",
           "landcolor": "#E5ECF6",
           "showlakes": true,
           "showland": true,
           "subunitcolor": "white"
          },
          "hoverlabel": {
           "align": "left"
          },
          "hovermode": "closest",
          "mapbox": {
           "style": "light"
          },
          "paper_bgcolor": "white",
          "plot_bgcolor": "#E5ECF6",
          "polar": {
           "angularaxis": {
            "gridcolor": "white",
            "linecolor": "white",
            "ticks": ""
           },
           "bgcolor": "#E5ECF6",
           "radialaxis": {
            "gridcolor": "white",
            "linecolor": "white",
            "ticks": ""
           }
          },
          "scene": {
           "xaxis": {
            "backgroundcolor": "#E5ECF6",
            "gridcolor": "white",
            "gridwidth": 2,
            "linecolor": "white",
            "showbackground": true,
            "ticks": "",
            "zerolinecolor": "white"
           },
           "yaxis": {
            "backgroundcolor": "#E5ECF6",
            "gridcolor": "white",
            "gridwidth": 2,
            "linecolor": "white",
            "showbackground": true,
            "ticks": "",
            "zerolinecolor": "white"
           },
           "zaxis": {
            "backgroundcolor": "#E5ECF6",
            "gridcolor": "white",
            "gridwidth": 2,
            "linecolor": "white",
            "showbackground": true,
            "ticks": "",
            "zerolinecolor": "white"
           }
          },
          "shapedefaults": {
           "line": {
            "color": "#2a3f5f"
           }
          },
          "ternary": {
           "aaxis": {
            "gridcolor": "white",
            "linecolor": "white",
            "ticks": ""
           },
           "baxis": {
            "gridcolor": "white",
            "linecolor": "white",
            "ticks": ""
           },
           "bgcolor": "#E5ECF6",
           "caxis": {
            "gridcolor": "white",
            "linecolor": "white",
            "ticks": ""
           }
          },
          "title": {
           "x": 0.05
          },
          "xaxis": {
           "automargin": true,
           "gridcolor": "white",
           "linecolor": "white",
           "ticks": "",
           "title": {
            "standoff": 15
           },
           "zerolinecolor": "white",
           "zerolinewidth": 2
          },
          "yaxis": {
           "automargin": true,
           "gridcolor": "white",
           "linecolor": "white",
           "ticks": "",
           "title": {
            "standoff": 15
           },
           "zerolinecolor": "white",
           "zerolinewidth": 2
          }
         }
        },
        "width": 1000,
        "xaxis": {
         "anchor": "y",
         "domain": [
          0,
          1
         ]
        },
        "yaxis": {
         "anchor": "x",
         "autorange": "reversed",
         "domain": [
          0,
          1
         ]
        }
       }
      }
     },
     "metadata": {},
     "output_type": "display_data"
    }
   ],
   "source": [
    "import plotly.express as px \n",
    "\n",
    "fig = px.imshow(df.corr(), text_auto= True , aspect='auto')\n",
    "fig.update_layout( width=1000, height = 900)\n",
    "fig.show()"
   ]
  },
  {
   "cell_type": "markdown",
   "metadata": {},
   "source": [
    "Para o modelo iremos considerar apenas as colunas que possui um grau de correlação acima de 0.5 ( Positivo e Negativo )"
   ]
  },
  {
   "cell_type": "code",
   "execution_count": 6,
   "metadata": {},
   "outputs": [
    {
     "data": {
      "text/html": [
       "<div>\n",
       "<style scoped>\n",
       "    .dataframe tbody tr th:only-of-type {\n",
       "        vertical-align: middle;\n",
       "    }\n",
       "\n",
       "    .dataframe tbody tr th {\n",
       "        vertical-align: top;\n",
       "    }\n",
       "\n",
       "    .dataframe thead th {\n",
       "        text-align: right;\n",
       "    }\n",
       "</style>\n",
       "<table border=\"1\" class=\"dataframe\">\n",
       "  <thead>\n",
       "    <tr style=\"text-align: right;\">\n",
       "      <th></th>\n",
       "      <th>class</th>\n",
       "      <th>alcool</th>\n",
       "      <th>acido_malico</th>\n",
       "      <th>cinzas</th>\n",
       "      <th>alcalinidade_das_cinzas</th>\n",
       "      <th>magnesio</th>\n",
       "      <th>total_fenol</th>\n",
       "      <th>flavenoides</th>\n",
       "      <th>Nãoflavanóides_fenóis</th>\n",
       "      <th>proantocianidinas</th>\n",
       "      <th>Intensidade_cor</th>\n",
       "      <th>cor</th>\n",
       "      <th>diluicao</th>\n",
       "      <th>prolina</th>\n",
       "    </tr>\n",
       "  </thead>\n",
       "  <tbody>\n",
       "    <tr>\n",
       "      <th>class</th>\n",
       "      <td>1.000000</td>\n",
       "      <td>-0.321238</td>\n",
       "      <td>0.436127</td>\n",
       "      <td>-0.048260</td>\n",
       "      <td>0.513963</td>\n",
       "      <td>-0.198944</td>\n",
       "      <td>-0.717933</td>\n",
       "      <td>-0.846485</td>\n",
       "      <td>0.487215</td>\n",
       "      <td>-0.494887</td>\n",
       "      <td>0.268562</td>\n",
       "      <td>-0.617690</td>\n",
       "      <td>-0.786428</td>\n",
       "      <td>-0.631227</td>\n",
       "    </tr>\n",
       "    <tr>\n",
       "      <th>alcalinidade_das_cinzas</th>\n",
       "      <td>0.513963</td>\n",
       "      <td>-0.303350</td>\n",
       "      <td>0.286148</td>\n",
       "      <td>0.446698</td>\n",
       "      <td>1.000000</td>\n",
       "      <td>-0.071707</td>\n",
       "      <td>-0.317583</td>\n",
       "      <td>-0.346922</td>\n",
       "      <td>0.359395</td>\n",
       "      <td>-0.190779</td>\n",
       "      <td>0.020478</td>\n",
       "      <td>-0.272719</td>\n",
       "      <td>-0.268186</td>\n",
       "      <td>-0.436858</td>\n",
       "    </tr>\n",
       "    <tr>\n",
       "      <th>total_fenol</th>\n",
       "      <td>-0.717933</td>\n",
       "      <td>0.284543</td>\n",
       "      <td>-0.333512</td>\n",
       "      <td>0.128176</td>\n",
       "      <td>-0.317583</td>\n",
       "      <td>0.208200</td>\n",
       "      <td>1.000000</td>\n",
       "      <td>0.864046</td>\n",
       "      <td>-0.448301</td>\n",
       "      <td>0.610533</td>\n",
       "      <td>-0.056401</td>\n",
       "      <td>0.432987</td>\n",
       "      <td>0.699566</td>\n",
       "      <td>0.495839</td>\n",
       "    </tr>\n",
       "    <tr>\n",
       "      <th>flavenoides</th>\n",
       "      <td>-0.846485</td>\n",
       "      <td>0.230133</td>\n",
       "      <td>-0.409324</td>\n",
       "      <td>0.114084</td>\n",
       "      <td>-0.346922</td>\n",
       "      <td>0.187101</td>\n",
       "      <td>0.864046</td>\n",
       "      <td>1.000000</td>\n",
       "      <td>-0.536326</td>\n",
       "      <td>0.650254</td>\n",
       "      <td>-0.174411</td>\n",
       "      <td>0.543208</td>\n",
       "      <td>0.786372</td>\n",
       "      <td>0.491180</td>\n",
       "    </tr>\n",
       "    <tr>\n",
       "      <th>cor</th>\n",
       "      <td>-0.617690</td>\n",
       "      <td>-0.075375</td>\n",
       "      <td>-0.560854</td>\n",
       "      <td>-0.075181</td>\n",
       "      <td>-0.272719</td>\n",
       "      <td>0.052042</td>\n",
       "      <td>0.432987</td>\n",
       "      <td>0.543208</td>\n",
       "      <td>-0.261709</td>\n",
       "      <td>0.294397</td>\n",
       "      <td>-0.522615</td>\n",
       "      <td>1.000000</td>\n",
       "      <td>0.567395</td>\n",
       "      <td>0.234879</td>\n",
       "    </tr>\n",
       "    <tr>\n",
       "      <th>diluicao</th>\n",
       "      <td>-0.786428</td>\n",
       "      <td>0.057417</td>\n",
       "      <td>-0.366720</td>\n",
       "      <td>0.001503</td>\n",
       "      <td>-0.268186</td>\n",
       "      <td>0.046961</td>\n",
       "      <td>0.699566</td>\n",
       "      <td>0.786372</td>\n",
       "      <td>-0.501859</td>\n",
       "      <td>0.513415</td>\n",
       "      <td>-0.435744</td>\n",
       "      <td>0.567395</td>\n",
       "      <td>1.000000</td>\n",
       "      <td>0.306031</td>\n",
       "    </tr>\n",
       "    <tr>\n",
       "      <th>prolina</th>\n",
       "      <td>-0.631227</td>\n",
       "      <td>0.641068</td>\n",
       "      <td>-0.189512</td>\n",
       "      <td>0.222979</td>\n",
       "      <td>-0.436858</td>\n",
       "      <td>0.387542</td>\n",
       "      <td>0.495839</td>\n",
       "      <td>0.491180</td>\n",
       "      <td>-0.308886</td>\n",
       "      <td>0.325731</td>\n",
       "      <td>0.315632</td>\n",
       "      <td>0.234879</td>\n",
       "      <td>0.306031</td>\n",
       "      <td>1.000000</td>\n",
       "    </tr>\n",
       "  </tbody>\n",
       "</table>\n",
       "</div>"
      ],
      "text/plain": [
       "                            class    alcool  acido_malico    cinzas  \\\n",
       "class                    1.000000 -0.321238      0.436127 -0.048260   \n",
       "alcalinidade_das_cinzas  0.513963 -0.303350      0.286148  0.446698   \n",
       "total_fenol             -0.717933  0.284543     -0.333512  0.128176   \n",
       "flavenoides             -0.846485  0.230133     -0.409324  0.114084   \n",
       "cor                     -0.617690 -0.075375     -0.560854 -0.075181   \n",
       "diluicao                -0.786428  0.057417     -0.366720  0.001503   \n",
       "prolina                 -0.631227  0.641068     -0.189512  0.222979   \n",
       "\n",
       "                         alcalinidade_das_cinzas  magnesio  total_fenol  \\\n",
       "class                                   0.513963 -0.198944    -0.717933   \n",
       "alcalinidade_das_cinzas                 1.000000 -0.071707    -0.317583   \n",
       "total_fenol                            -0.317583  0.208200     1.000000   \n",
       "flavenoides                            -0.346922  0.187101     0.864046   \n",
       "cor                                    -0.272719  0.052042     0.432987   \n",
       "diluicao                               -0.268186  0.046961     0.699566   \n",
       "prolina                                -0.436858  0.387542     0.495839   \n",
       "\n",
       "                         flavenoides  Nãoflavanóides_fenóis  \\\n",
       "class                      -0.846485               0.487215   \n",
       "alcalinidade_das_cinzas    -0.346922               0.359395   \n",
       "total_fenol                 0.864046              -0.448301   \n",
       "flavenoides                 1.000000              -0.536326   \n",
       "cor                         0.543208              -0.261709   \n",
       "diluicao                    0.786372              -0.501859   \n",
       "prolina                     0.491180              -0.308886   \n",
       "\n",
       "                         proantocianidinas  Intensidade_cor       cor  \\\n",
       "class                            -0.494887         0.268562 -0.617690   \n",
       "alcalinidade_das_cinzas          -0.190779         0.020478 -0.272719   \n",
       "total_fenol                       0.610533        -0.056401  0.432987   \n",
       "flavenoides                       0.650254        -0.174411  0.543208   \n",
       "cor                               0.294397        -0.522615  1.000000   \n",
       "diluicao                          0.513415        -0.435744  0.567395   \n",
       "prolina                           0.325731         0.315632  0.234879   \n",
       "\n",
       "                         diluicao   prolina  \n",
       "class                   -0.786428 -0.631227  \n",
       "alcalinidade_das_cinzas -0.268186 -0.436858  \n",
       "total_fenol              0.699566  0.495839  \n",
       "flavenoides              0.786372  0.491180  \n",
       "cor                      0.567395  0.234879  \n",
       "diluicao                 1.000000  0.306031  \n",
       "prolina                  0.306031  1.000000  "
      ]
     },
     "execution_count": 6,
     "metadata": {},
     "output_type": "execute_result"
    }
   ],
   "source": [
    "corr = df.corr()\n",
    "top_features = corr[abs(corr['class']) > 0.5].index # Considerado valores absolutos (+, -)\n",
    "dados = df[top_features]"
   ]
  },
  {
   "cell_type": "markdown",
   "metadata": {},
   "source": [
    "Imprimindo um gráfico de disperção para melhor visualização"
   ]
  },
  {
   "cell_type": "code",
   "execution_count": 7,
   "metadata": {},
   "outputs": [
    {
     "ename": "NameError",
     "evalue": "name 'dados' is not defined",
     "output_type": "error",
     "traceback": [
      "\u001b[1;31m---------------------------------------------------------------------------\u001b[0m",
      "\u001b[1;31mNameError\u001b[0m                                 Traceback (most recent call last)",
      "Cell \u001b[1;32mIn[7], line 1\u001b[0m\n\u001b[1;32m----> 1\u001b[0m dimensoes_excluidas \u001b[39m=\u001b[39m [coluna \u001b[39mfor\u001b[39;00m coluna \u001b[39min\u001b[39;00m dados\u001b[39m.\u001b[39mcolumns \u001b[39mif\u001b[39;00m coluna \u001b[39m!=\u001b[39m \u001b[39m\"\u001b[39m\u001b[39mclass\u001b[39m\u001b[39m\"\u001b[39m] \u001b[39m# oculta a coluna class\u001b[39;00m\n\u001b[0;32m      2\u001b[0m fig \u001b[39m=\u001b[39m px\u001b[39m.\u001b[39mscatter_matrix(dados, color\u001b[39m=\u001b[39m\u001b[39m'\u001b[39m\u001b[39mclass\u001b[39m\u001b[39m'\u001b[39m, dimensions\u001b[39m=\u001b[39m dimensoes_excluidas)\n\u001b[0;32m      3\u001b[0m fig\u001b[39m.\u001b[39mupdate_layout( width\u001b[39m=\u001b[39m\u001b[39m1000\u001b[39m, height \u001b[39m=\u001b[39m \u001b[39m900\u001b[39m)\n",
      "\u001b[1;31mNameError\u001b[0m: name 'dados' is not defined"
     ]
    }
   ],
   "source": [
    "dimensoes_excluidas = [coluna for coluna in dados.columns if coluna != \"class\"] # oculta a coluna class\n",
    "fig = px.scatter_matrix(dados, color='class', dimensions= dimensoes_excluidas)\n",
    "fig.update_layout( width=1000, height = 900)\n",
    "fig.show()"
   ]
  },
  {
   "cell_type": "code",
   "execution_count": null,
   "metadata": {},
   "outputs": [],
   "source": [
    "x = dados.drop('class', axis=1)\n",
    "y = dados['class']"
   ]
  },
  {
   "cell_type": "code",
   "execution_count": null,
   "metadata": {},
   "outputs": [],
   "source": [
    "from sklearn.model_selection import train_test_split\n",
    "\n",
    "x_train, x_test, y_train, y_test = train_test_split(x, y , test_size=0.33 , random_state=42)"
   ]
  },
  {
   "cell_type": "code",
   "execution_count": null,
   "metadata": {},
   "outputs": [
    {
     "data": {
      "text/html": [
       "<style>#sk-container-id-1 {color: black;background-color: white;}#sk-container-id-1 pre{padding: 0;}#sk-container-id-1 div.sk-toggleable {background-color: white;}#sk-container-id-1 label.sk-toggleable__label {cursor: pointer;display: block;width: 100%;margin-bottom: 0;padding: 0.3em;box-sizing: border-box;text-align: center;}#sk-container-id-1 label.sk-toggleable__label-arrow:before {content: \"▸\";float: left;margin-right: 0.25em;color: #696969;}#sk-container-id-1 label.sk-toggleable__label-arrow:hover:before {color: black;}#sk-container-id-1 div.sk-estimator:hover label.sk-toggleable__label-arrow:before {color: black;}#sk-container-id-1 div.sk-toggleable__content {max-height: 0;max-width: 0;overflow: hidden;text-align: left;background-color: #f0f8ff;}#sk-container-id-1 div.sk-toggleable__content pre {margin: 0.2em;color: black;border-radius: 0.25em;background-color: #f0f8ff;}#sk-container-id-1 input.sk-toggleable__control:checked~div.sk-toggleable__content {max-height: 200px;max-width: 100%;overflow: auto;}#sk-container-id-1 input.sk-toggleable__control:checked~label.sk-toggleable__label-arrow:before {content: \"▾\";}#sk-container-id-1 div.sk-estimator input.sk-toggleable__control:checked~label.sk-toggleable__label {background-color: #d4ebff;}#sk-container-id-1 div.sk-label input.sk-toggleable__control:checked~label.sk-toggleable__label {background-color: #d4ebff;}#sk-container-id-1 input.sk-hidden--visually {border: 0;clip: rect(1px 1px 1px 1px);clip: rect(1px, 1px, 1px, 1px);height: 1px;margin: -1px;overflow: hidden;padding: 0;position: absolute;width: 1px;}#sk-container-id-1 div.sk-estimator {font-family: monospace;background-color: #f0f8ff;border: 1px dotted black;border-radius: 0.25em;box-sizing: border-box;margin-bottom: 0.5em;}#sk-container-id-1 div.sk-estimator:hover {background-color: #d4ebff;}#sk-container-id-1 div.sk-parallel-item::after {content: \"\";width: 100%;border-bottom: 1px solid gray;flex-grow: 1;}#sk-container-id-1 div.sk-label:hover label.sk-toggleable__label {background-color: #d4ebff;}#sk-container-id-1 div.sk-serial::before {content: \"\";position: absolute;border-left: 1px solid gray;box-sizing: border-box;top: 0;bottom: 0;left: 50%;z-index: 0;}#sk-container-id-1 div.sk-serial {display: flex;flex-direction: column;align-items: center;background-color: white;padding-right: 0.2em;padding-left: 0.2em;position: relative;}#sk-container-id-1 div.sk-item {position: relative;z-index: 1;}#sk-container-id-1 div.sk-parallel {display: flex;align-items: stretch;justify-content: center;background-color: white;position: relative;}#sk-container-id-1 div.sk-item::before, #sk-container-id-1 div.sk-parallel-item::before {content: \"\";position: absolute;border-left: 1px solid gray;box-sizing: border-box;top: 0;bottom: 0;left: 50%;z-index: -1;}#sk-container-id-1 div.sk-parallel-item {display: flex;flex-direction: column;z-index: 1;position: relative;background-color: white;}#sk-container-id-1 div.sk-parallel-item:first-child::after {align-self: flex-end;width: 50%;}#sk-container-id-1 div.sk-parallel-item:last-child::after {align-self: flex-start;width: 50%;}#sk-container-id-1 div.sk-parallel-item:only-child::after {width: 0;}#sk-container-id-1 div.sk-dashed-wrapped {border: 1px dashed gray;margin: 0 0.4em 0.5em 0.4em;box-sizing: border-box;padding-bottom: 0.4em;background-color: white;}#sk-container-id-1 div.sk-label label {font-family: monospace;font-weight: bold;display: inline-block;line-height: 1.2em;}#sk-container-id-1 div.sk-label-container {text-align: center;}#sk-container-id-1 div.sk-container {/* jupyter's `normalize.less` sets `[hidden] { display: none; }` but bootstrap.min.css set `[hidden] { display: none !important; }` so we also need the `!important` here to be able to override the default hidden behavior on the sphinx rendered scikit-learn.org. See: https://github.com/scikit-learn/scikit-learn/issues/21755 */display: inline-block !important;position: relative;}#sk-container-id-1 div.sk-text-repr-fallback {display: none;}</style><div id=\"sk-container-id-1\" class=\"sk-top-container\"><div class=\"sk-text-repr-fallback\"><pre>GaussianNB()</pre><b>In a Jupyter environment, please rerun this cell to show the HTML representation or trust the notebook. <br />On GitHub, the HTML representation is unable to render, please try loading this page with nbviewer.org.</b></div><div class=\"sk-container\" hidden><div class=\"sk-item\"><div class=\"sk-estimator sk-toggleable\"><input class=\"sk-toggleable__control sk-hidden--visually\" id=\"sk-estimator-id-1\" type=\"checkbox\" checked><label for=\"sk-estimator-id-1\" class=\"sk-toggleable__label sk-toggleable__label-arrow\">GaussianNB</label><div class=\"sk-toggleable__content\"><pre>GaussianNB()</pre></div></div></div></div></div>"
      ],
      "text/plain": [
       "GaussianNB()"
      ]
     },
     "execution_count": 11,
     "metadata": {},
     "output_type": "execute_result"
    }
   ],
   "source": [
    "from sklearn.naive_bayes import GaussianNB\n",
    "\n",
    "clf = GaussianNB()\n",
    "clf.fit(x_train, y_train)"
   ]
  },
  {
   "cell_type": "code",
   "execution_count": null,
   "metadata": {},
   "outputs": [
    {
     "data": {
      "text/plain": [
       "0.9322033898305084"
      ]
     },
     "execution_count": 12,
     "metadata": {},
     "output_type": "execute_result"
    }
   ],
   "source": [
    "clf.score(x_test, y_test)"
   ]
  },
  {
   "cell_type": "code",
   "execution_count": null,
   "metadata": {},
   "outputs": [
    {
     "name": "stdout",
     "output_type": "stream",
     "text": [
      "3\n"
     ]
    },
    {
     "name": "stderr",
     "output_type": "stream",
     "text": [
      "C:\\Users\\Dell\\anaconda3\\lib\\site-packages\\sklearn\\base.py:420: UserWarning:\n",
      "\n",
      "X does not have valid feature names, but GaussianNB was fitted with feature names\n",
      "\n"
     ]
    }
   ],
   "source": [
    "print(clf.predict([[23.0, 1.80, 0.75, 0.70, 1.56, 750]])[0])"
   ]
  },
  {
   "cell_type": "code",
   "execution_count": null,
   "metadata": {},
   "outputs": [],
   "source": [
    "import numpy as np\n",
    "def modelo_previsao(alcalinidade_das_cinzas, total_fenol, flavenoides, cor, diluicao, prolina):\n",
    "    x = [alcalinidade_das_cinzas, total_fenol, flavenoides, cor, diluicao, prolina]\n",
    "    return clf.predict([x])[0]"
   ]
  },
  {
   "cell_type": "code",
   "execution_count": null,
   "metadata": {},
   "outputs": [
    {
     "name": "stderr",
     "output_type": "stream",
     "text": [
      "C:\\Users\\Dell\\anaconda3\\lib\\site-packages\\sklearn\\base.py:420: UserWarning:\n",
      "\n",
      "X does not have valid feature names, but GaussianNB was fitted with feature names\n",
      "\n",
      "C:\\Users\\Dell\\anaconda3\\lib\\site-packages\\sklearn\\base.py:420: UserWarning:\n",
      "\n",
      "X does not have valid feature names, but GaussianNB was fitted with feature names\n",
      "\n",
      "C:\\Users\\Dell\\anaconda3\\lib\\site-packages\\sklearn\\base.py:420: UserWarning:\n",
      "\n",
      "X does not have valid feature names, but GaussianNB was fitted with feature names\n",
      "\n",
      "C:\\Users\\Dell\\anaconda3\\lib\\site-packages\\sklearn\\base.py:420: UserWarning:\n",
      "\n",
      "X does not have valid feature names, but GaussianNB was fitted with feature names\n",
      "\n",
      "C:\\Users\\Dell\\anaconda3\\lib\\site-packages\\sklearn\\base.py:420: UserWarning:\n",
      "\n",
      "X does not have valid feature names, but GaussianNB was fitted with feature names\n",
      "\n",
      "C:\\Users\\Dell\\anaconda3\\lib\\site-packages\\sklearn\\base.py:420: UserWarning:\n",
      "\n",
      "X does not have valid feature names, but GaussianNB was fitted with feature names\n",
      "\n",
      "C:\\Users\\Dell\\anaconda3\\lib\\site-packages\\sklearn\\base.py:420: UserWarning:\n",
      "\n",
      "X does not have valid feature names, but GaussianNB was fitted with feature names\n",
      "\n",
      "C:\\Users\\Dell\\anaconda3\\lib\\site-packages\\sklearn\\base.py:420: UserWarning:\n",
      "\n",
      "X does not have valid feature names, but GaussianNB was fitted with feature names\n",
      "\n",
      "C:\\Users\\Dell\\anaconda3\\lib\\site-packages\\sklearn\\base.py:420: UserWarning:\n",
      "\n",
      "X does not have valid feature names, but GaussianNB was fitted with feature names\n",
      "\n",
      "C:\\Users\\Dell\\anaconda3\\lib\\site-packages\\sklearn\\base.py:420: UserWarning:\n",
      "\n",
      "X does not have valid feature names, but GaussianNB was fitted with feature names\n",
      "\n",
      "C:\\Users\\Dell\\anaconda3\\lib\\site-packages\\sklearn\\base.py:420: UserWarning:\n",
      "\n",
      "X does not have valid feature names, but GaussianNB was fitted with feature names\n",
      "\n",
      "C:\\Users\\Dell\\anaconda3\\lib\\site-packages\\sklearn\\base.py:420: UserWarning:\n",
      "\n",
      "X does not have valid feature names, but GaussianNB was fitted with feature names\n",
      "\n",
      "C:\\Users\\Dell\\anaconda3\\lib\\site-packages\\sklearn\\base.py:420: UserWarning:\n",
      "\n",
      "X does not have valid feature names, but GaussianNB was fitted with feature names\n",
      "\n",
      "C:\\Users\\Dell\\anaconda3\\lib\\site-packages\\sklearn\\base.py:420: UserWarning:\n",
      "\n",
      "X does not have valid feature names, but GaussianNB was fitted with feature names\n",
      "\n",
      "C:\\Users\\Dell\\anaconda3\\lib\\site-packages\\sklearn\\base.py:420: UserWarning:\n",
      "\n",
      "X does not have valid feature names, but GaussianNB was fitted with feature names\n",
      "\n",
      "C:\\Users\\Dell\\anaconda3\\lib\\site-packages\\sklearn\\base.py:420: UserWarning:\n",
      "\n",
      "X does not have valid feature names, but GaussianNB was fitted with feature names\n",
      "\n",
      "C:\\Users\\Dell\\anaconda3\\lib\\site-packages\\sklearn\\base.py:420: UserWarning:\n",
      "\n",
      "X does not have valid feature names, but GaussianNB was fitted with feature names\n",
      "\n",
      "C:\\Users\\Dell\\anaconda3\\lib\\site-packages\\sklearn\\base.py:420: UserWarning:\n",
      "\n",
      "X does not have valid feature names, but GaussianNB was fitted with feature names\n",
      "\n",
      "C:\\Users\\Dell\\anaconda3\\lib\\site-packages\\sklearn\\base.py:420: UserWarning:\n",
      "\n",
      "X does not have valid feature names, but GaussianNB was fitted with feature names\n",
      "\n",
      "C:\\Users\\Dell\\anaconda3\\lib\\site-packages\\sklearn\\base.py:420: UserWarning:\n",
      "\n",
      "X does not have valid feature names, but GaussianNB was fitted with feature names\n",
      "\n",
      "C:\\Users\\Dell\\anaconda3\\lib\\site-packages\\sklearn\\base.py:420: UserWarning:\n",
      "\n",
      "X does not have valid feature names, but GaussianNB was fitted with feature names\n",
      "\n",
      "C:\\Users\\Dell\\anaconda3\\lib\\site-packages\\sklearn\\base.py:420: UserWarning:\n",
      "\n",
      "X does not have valid feature names, but GaussianNB was fitted with feature names\n",
      "\n",
      "C:\\Users\\Dell\\anaconda3\\lib\\site-packages\\sklearn\\base.py:420: UserWarning:\n",
      "\n",
      "X does not have valid feature names, but GaussianNB was fitted with feature names\n",
      "\n",
      "C:\\Users\\Dell\\anaconda3\\lib\\site-packages\\sklearn\\base.py:420: UserWarning:\n",
      "\n",
      "X does not have valid feature names, but GaussianNB was fitted with feature names\n",
      "\n",
      "C:\\Users\\Dell\\anaconda3\\lib\\site-packages\\sklearn\\base.py:420: UserWarning:\n",
      "\n",
      "X does not have valid feature names, but GaussianNB was fitted with feature names\n",
      "\n",
      "C:\\Users\\Dell\\anaconda3\\lib\\site-packages\\sklearn\\base.py:420: UserWarning:\n",
      "\n",
      "X does not have valid feature names, but GaussianNB was fitted with feature names\n",
      "\n",
      "C:\\Users\\Dell\\anaconda3\\lib\\site-packages\\sklearn\\base.py:420: UserWarning:\n",
      "\n",
      "X does not have valid feature names, but GaussianNB was fitted with feature names\n",
      "\n",
      "C:\\Users\\Dell\\anaconda3\\lib\\site-packages\\sklearn\\base.py:420: UserWarning:\n",
      "\n",
      "X does not have valid feature names, but GaussianNB was fitted with feature names\n",
      "\n",
      "C:\\Users\\Dell\\anaconda3\\lib\\site-packages\\sklearn\\base.py:420: UserWarning:\n",
      "\n",
      "X does not have valid feature names, but GaussianNB was fitted with feature names\n",
      "\n",
      "C:\\Users\\Dell\\anaconda3\\lib\\site-packages\\sklearn\\base.py:420: UserWarning:\n",
      "\n",
      "X does not have valid feature names, but GaussianNB was fitted with feature names\n",
      "\n",
      "C:\\Users\\Dell\\anaconda3\\lib\\site-packages\\sklearn\\base.py:420: UserWarning:\n",
      "\n",
      "X does not have valid feature names, but GaussianNB was fitted with feature names\n",
      "\n",
      "C:\\Users\\Dell\\anaconda3\\lib\\site-packages\\sklearn\\base.py:420: UserWarning:\n",
      "\n",
      "X does not have valid feature names, but GaussianNB was fitted with feature names\n",
      "\n",
      "C:\\Users\\Dell\\anaconda3\\lib\\site-packages\\sklearn\\base.py:420: UserWarning:\n",
      "\n",
      "X does not have valid feature names, but GaussianNB was fitted with feature names\n",
      "\n",
      "C:\\Users\\Dell\\anaconda3\\lib\\site-packages\\sklearn\\base.py:420: UserWarning:\n",
      "\n",
      "X does not have valid feature names, but GaussianNB was fitted with feature names\n",
      "\n",
      "C:\\Users\\Dell\\anaconda3\\lib\\site-packages\\sklearn\\base.py:420: UserWarning:\n",
      "\n",
      "X does not have valid feature names, but GaussianNB was fitted with feature names\n",
      "\n",
      "C:\\Users\\Dell\\anaconda3\\lib\\site-packages\\sklearn\\base.py:420: UserWarning:\n",
      "\n",
      "X does not have valid feature names, but GaussianNB was fitted with feature names\n",
      "\n",
      "C:\\Users\\Dell\\anaconda3\\lib\\site-packages\\sklearn\\base.py:420: UserWarning:\n",
      "\n",
      "X does not have valid feature names, but GaussianNB was fitted with feature names\n",
      "\n",
      "C:\\Users\\Dell\\anaconda3\\lib\\site-packages\\sklearn\\base.py:420: UserWarning:\n",
      "\n",
      "X does not have valid feature names, but GaussianNB was fitted with feature names\n",
      "\n",
      "C:\\Users\\Dell\\anaconda3\\lib\\site-packages\\sklearn\\base.py:420: UserWarning:\n",
      "\n",
      "X does not have valid feature names, but GaussianNB was fitted with feature names\n",
      "\n",
      "C:\\Users\\Dell\\anaconda3\\lib\\site-packages\\sklearn\\base.py:420: UserWarning:\n",
      "\n",
      "X does not have valid feature names, but GaussianNB was fitted with feature names\n",
      "\n",
      "C:\\Users\\Dell\\anaconda3\\lib\\site-packages\\sklearn\\base.py:420: UserWarning:\n",
      "\n",
      "X does not have valid feature names, but GaussianNB was fitted with feature names\n",
      "\n",
      "C:\\Users\\Dell\\anaconda3\\lib\\site-packages\\sklearn\\base.py:420: UserWarning:\n",
      "\n",
      "X does not have valid feature names, but GaussianNB was fitted with feature names\n",
      "\n",
      "C:\\Users\\Dell\\anaconda3\\lib\\site-packages\\sklearn\\base.py:420: UserWarning:\n",
      "\n",
      "X does not have valid feature names, but GaussianNB was fitted with feature names\n",
      "\n",
      "C:\\Users\\Dell\\anaconda3\\lib\\site-packages\\sklearn\\base.py:420: UserWarning:\n",
      "\n",
      "X does not have valid feature names, but GaussianNB was fitted with feature names\n",
      "\n",
      "C:\\Users\\Dell\\anaconda3\\lib\\site-packages\\sklearn\\base.py:420: UserWarning:\n",
      "\n",
      "X does not have valid feature names, but GaussianNB was fitted with feature names\n",
      "\n",
      "C:\\Users\\Dell\\anaconda3\\lib\\site-packages\\sklearn\\base.py:420: UserWarning:\n",
      "\n",
      "X does not have valid feature names, but GaussianNB was fitted with feature names\n",
      "\n",
      "C:\\Users\\Dell\\anaconda3\\lib\\site-packages\\sklearn\\base.py:420: UserWarning:\n",
      "\n",
      "X does not have valid feature names, but GaussianNB was fitted with feature names\n",
      "\n",
      "C:\\Users\\Dell\\anaconda3\\lib\\site-packages\\sklearn\\base.py:420: UserWarning:\n",
      "\n",
      "X does not have valid feature names, but GaussianNB was fitted with feature names\n",
      "\n",
      "C:\\Users\\Dell\\anaconda3\\lib\\site-packages\\sklearn\\base.py:420: UserWarning:\n",
      "\n",
      "X does not have valid feature names, but GaussianNB was fitted with feature names\n",
      "\n",
      "C:\\Users\\Dell\\anaconda3\\lib\\site-packages\\sklearn\\base.py:420: UserWarning:\n",
      "\n",
      "X does not have valid feature names, but GaussianNB was fitted with feature names\n",
      "\n",
      "C:\\Users\\Dell\\anaconda3\\lib\\site-packages\\sklearn\\base.py:420: UserWarning:\n",
      "\n",
      "X does not have valid feature names, but GaussianNB was fitted with feature names\n",
      "\n",
      "C:\\Users\\Dell\\anaconda3\\lib\\site-packages\\sklearn\\base.py:420: UserWarning:\n",
      "\n",
      "X does not have valid feature names, but GaussianNB was fitted with feature names\n",
      "\n",
      "C:\\Users\\Dell\\anaconda3\\lib\\site-packages\\sklearn\\base.py:420: UserWarning:\n",
      "\n",
      "X does not have valid feature names, but GaussianNB was fitted with feature names\n",
      "\n",
      "C:\\Users\\Dell\\anaconda3\\lib\\site-packages\\sklearn\\base.py:420: UserWarning:\n",
      "\n",
      "X does not have valid feature names, but GaussianNB was fitted with feature names\n",
      "\n",
      "C:\\Users\\Dell\\anaconda3\\lib\\site-packages\\sklearn\\base.py:420: UserWarning:\n",
      "\n",
      "X does not have valid feature names, but GaussianNB was fitted with feature names\n",
      "\n",
      "C:\\Users\\Dell\\anaconda3\\lib\\site-packages\\sklearn\\base.py:420: UserWarning:\n",
      "\n",
      "X does not have valid feature names, but GaussianNB was fitted with feature names\n",
      "\n",
      "C:\\Users\\Dell\\anaconda3\\lib\\site-packages\\sklearn\\base.py:420: UserWarning:\n",
      "\n",
      "X does not have valid feature names, but GaussianNB was fitted with feature names\n",
      "\n",
      "C:\\Users\\Dell\\anaconda3\\lib\\site-packages\\sklearn\\base.py:420: UserWarning:\n",
      "\n",
      "X does not have valid feature names, but GaussianNB was fitted with feature names\n",
      "\n",
      "C:\\Users\\Dell\\anaconda3\\lib\\site-packages\\sklearn\\base.py:420: UserWarning:\n",
      "\n",
      "X does not have valid feature names, but GaussianNB was fitted with feature names\n",
      "\n",
      "C:\\Users\\Dell\\anaconda3\\lib\\site-packages\\sklearn\\base.py:420: UserWarning:\n",
      "\n",
      "X does not have valid feature names, but GaussianNB was fitted with feature names\n",
      "\n",
      "C:\\Users\\Dell\\anaconda3\\lib\\site-packages\\sklearn\\base.py:420: UserWarning:\n",
      "\n",
      "X does not have valid feature names, but GaussianNB was fitted with feature names\n",
      "\n",
      "C:\\Users\\Dell\\anaconda3\\lib\\site-packages\\sklearn\\base.py:420: UserWarning:\n",
      "\n",
      "X does not have valid feature names, but GaussianNB was fitted with feature names\n",
      "\n",
      "C:\\Users\\Dell\\anaconda3\\lib\\site-packages\\sklearn\\base.py:420: UserWarning:\n",
      "\n",
      "X does not have valid feature names, but GaussianNB was fitted with feature names\n",
      "\n",
      "C:\\Users\\Dell\\anaconda3\\lib\\site-packages\\sklearn\\base.py:420: UserWarning:\n",
      "\n",
      "X does not have valid feature names, but GaussianNB was fitted with feature names\n",
      "\n",
      "C:\\Users\\Dell\\anaconda3\\lib\\site-packages\\sklearn\\base.py:420: UserWarning:\n",
      "\n",
      "X does not have valid feature names, but GaussianNB was fitted with feature names\n",
      "\n",
      "C:\\Users\\Dell\\anaconda3\\lib\\site-packages\\sklearn\\base.py:420: UserWarning:\n",
      "\n",
      "X does not have valid feature names, but GaussianNB was fitted with feature names\n",
      "\n",
      "C:\\Users\\Dell\\anaconda3\\lib\\site-packages\\sklearn\\base.py:420: UserWarning:\n",
      "\n",
      "X does not have valid feature names, but GaussianNB was fitted with feature names\n",
      "\n",
      "C:\\Users\\Dell\\anaconda3\\lib\\site-packages\\sklearn\\base.py:420: UserWarning:\n",
      "\n",
      "X does not have valid feature names, but GaussianNB was fitted with feature names\n",
      "\n",
      "C:\\Users\\Dell\\anaconda3\\lib\\site-packages\\sklearn\\base.py:420: UserWarning:\n",
      "\n",
      "X does not have valid feature names, but GaussianNB was fitted with feature names\n",
      "\n",
      "C:\\Users\\Dell\\anaconda3\\lib\\site-packages\\sklearn\\base.py:420: UserWarning:\n",
      "\n",
      "X does not have valid feature names, but GaussianNB was fitted with feature names\n",
      "\n",
      "C:\\Users\\Dell\\anaconda3\\lib\\site-packages\\sklearn\\base.py:420: UserWarning:\n",
      "\n",
      "X does not have valid feature names, but GaussianNB was fitted with feature names\n",
      "\n",
      "C:\\Users\\Dell\\anaconda3\\lib\\site-packages\\sklearn\\base.py:420: UserWarning:\n",
      "\n",
      "X does not have valid feature names, but GaussianNB was fitted with feature names\n",
      "\n",
      "C:\\Users\\Dell\\anaconda3\\lib\\site-packages\\sklearn\\base.py:420: UserWarning:\n",
      "\n",
      "X does not have valid feature names, but GaussianNB was fitted with feature names\n",
      "\n",
      "C:\\Users\\Dell\\anaconda3\\lib\\site-packages\\sklearn\\base.py:420: UserWarning:\n",
      "\n",
      "X does not have valid feature names, but GaussianNB was fitted with feature names\n",
      "\n",
      "C:\\Users\\Dell\\anaconda3\\lib\\site-packages\\sklearn\\base.py:420: UserWarning:\n",
      "\n",
      "X does not have valid feature names, but GaussianNB was fitted with feature names\n",
      "\n",
      "C:\\Users\\Dell\\anaconda3\\lib\\site-packages\\sklearn\\base.py:420: UserWarning:\n",
      "\n",
      "X does not have valid feature names, but GaussianNB was fitted with feature names\n",
      "\n",
      "C:\\Users\\Dell\\anaconda3\\lib\\site-packages\\sklearn\\base.py:420: UserWarning:\n",
      "\n",
      "X does not have valid feature names, but GaussianNB was fitted with feature names\n",
      "\n",
      "C:\\Users\\Dell\\anaconda3\\lib\\site-packages\\sklearn\\base.py:420: UserWarning:\n",
      "\n",
      "X does not have valid feature names, but GaussianNB was fitted with feature names\n",
      "\n",
      "C:\\Users\\Dell\\anaconda3\\lib\\site-packages\\sklearn\\base.py:420: UserWarning:\n",
      "\n",
      "X does not have valid feature names, but GaussianNB was fitted with feature names\n",
      "\n",
      "C:\\Users\\Dell\\anaconda3\\lib\\site-packages\\sklearn\\base.py:420: UserWarning:\n",
      "\n",
      "X does not have valid feature names, but GaussianNB was fitted with feature names\n",
      "\n",
      "C:\\Users\\Dell\\anaconda3\\lib\\site-packages\\sklearn\\base.py:420: UserWarning:\n",
      "\n",
      "X does not have valid feature names, but GaussianNB was fitted with feature names\n",
      "\n",
      "C:\\Users\\Dell\\anaconda3\\lib\\site-packages\\sklearn\\base.py:420: UserWarning:\n",
      "\n",
      "X does not have valid feature names, but GaussianNB was fitted with feature names\n",
      "\n",
      "C:\\Users\\Dell\\anaconda3\\lib\\site-packages\\sklearn\\base.py:420: UserWarning:\n",
      "\n",
      "X does not have valid feature names, but GaussianNB was fitted with feature names\n",
      "\n",
      "C:\\Users\\Dell\\anaconda3\\lib\\site-packages\\sklearn\\base.py:420: UserWarning:\n",
      "\n",
      "X does not have valid feature names, but GaussianNB was fitted with feature names\n",
      "\n",
      "C:\\Users\\Dell\\anaconda3\\lib\\site-packages\\sklearn\\base.py:420: UserWarning:\n",
      "\n",
      "X does not have valid feature names, but GaussianNB was fitted with feature names\n",
      "\n",
      "C:\\Users\\Dell\\anaconda3\\lib\\site-packages\\sklearn\\base.py:420: UserWarning:\n",
      "\n",
      "X does not have valid feature names, but GaussianNB was fitted with feature names\n",
      "\n",
      "C:\\Users\\Dell\\anaconda3\\lib\\site-packages\\sklearn\\base.py:420: UserWarning:\n",
      "\n",
      "X does not have valid feature names, but GaussianNB was fitted with feature names\n",
      "\n",
      "C:\\Users\\Dell\\anaconda3\\lib\\site-packages\\sklearn\\base.py:420: UserWarning:\n",
      "\n",
      "X does not have valid feature names, but GaussianNB was fitted with feature names\n",
      "\n",
      "C:\\Users\\Dell\\anaconda3\\lib\\site-packages\\sklearn\\base.py:420: UserWarning:\n",
      "\n",
      "X does not have valid feature names, but GaussianNB was fitted with feature names\n",
      "\n",
      "C:\\Users\\Dell\\anaconda3\\lib\\site-packages\\sklearn\\base.py:420: UserWarning:\n",
      "\n",
      "X does not have valid feature names, but GaussianNB was fitted with feature names\n",
      "\n",
      "C:\\Users\\Dell\\anaconda3\\lib\\site-packages\\sklearn\\base.py:420: UserWarning:\n",
      "\n",
      "X does not have valid feature names, but GaussianNB was fitted with feature names\n",
      "\n",
      "C:\\Users\\Dell\\anaconda3\\lib\\site-packages\\sklearn\\base.py:420: UserWarning:\n",
      "\n",
      "X does not have valid feature names, but GaussianNB was fitted with feature names\n",
      "\n",
      "C:\\Users\\Dell\\anaconda3\\lib\\site-packages\\sklearn\\base.py:420: UserWarning:\n",
      "\n",
      "X does not have valid feature names, but GaussianNB was fitted with feature names\n",
      "\n",
      "C:\\Users\\Dell\\anaconda3\\lib\\site-packages\\sklearn\\base.py:420: UserWarning:\n",
      "\n",
      "X does not have valid feature names, but GaussianNB was fitted with feature names\n",
      "\n",
      "C:\\Users\\Dell\\anaconda3\\lib\\site-packages\\sklearn\\base.py:420: UserWarning:\n",
      "\n",
      "X does not have valid feature names, but GaussianNB was fitted with feature names\n",
      "\n",
      "C:\\Users\\Dell\\anaconda3\\lib\\site-packages\\sklearn\\base.py:420: UserWarning:\n",
      "\n",
      "X does not have valid feature names, but GaussianNB was fitted with feature names\n",
      "\n",
      "C:\\Users\\Dell\\anaconda3\\lib\\site-packages\\sklearn\\base.py:420: UserWarning:\n",
      "\n",
      "X does not have valid feature names, but GaussianNB was fitted with feature names\n",
      "\n",
      "C:\\Users\\Dell\\anaconda3\\lib\\site-packages\\sklearn\\base.py:420: UserWarning:\n",
      "\n",
      "X does not have valid feature names, but GaussianNB was fitted with feature names\n",
      "\n",
      "C:\\Users\\Dell\\anaconda3\\lib\\site-packages\\sklearn\\base.py:420: UserWarning:\n",
      "\n",
      "X does not have valid feature names, but GaussianNB was fitted with feature names\n",
      "\n",
      "C:\\Users\\Dell\\anaconda3\\lib\\site-packages\\sklearn\\base.py:420: UserWarning:\n",
      "\n",
      "X does not have valid feature names, but GaussianNB was fitted with feature names\n",
      "\n",
      "C:\\Users\\Dell\\anaconda3\\lib\\site-packages\\sklearn\\base.py:420: UserWarning:\n",
      "\n",
      "X does not have valid feature names, but GaussianNB was fitted with feature names\n",
      "\n",
      "C:\\Users\\Dell\\anaconda3\\lib\\site-packages\\sklearn\\base.py:420: UserWarning:\n",
      "\n",
      "X does not have valid feature names, but GaussianNB was fitted with feature names\n",
      "\n",
      "C:\\Users\\Dell\\anaconda3\\lib\\site-packages\\sklearn\\base.py:420: UserWarning:\n",
      "\n",
      "X does not have valid feature names, but GaussianNB was fitted with feature names\n",
      "\n",
      "C:\\Users\\Dell\\anaconda3\\lib\\site-packages\\sklearn\\base.py:420: UserWarning:\n",
      "\n",
      "X does not have valid feature names, but GaussianNB was fitted with feature names\n",
      "\n",
      "C:\\Users\\Dell\\anaconda3\\lib\\site-packages\\sklearn\\base.py:420: UserWarning:\n",
      "\n",
      "X does not have valid feature names, but GaussianNB was fitted with feature names\n",
      "\n",
      "C:\\Users\\Dell\\anaconda3\\lib\\site-packages\\sklearn\\base.py:420: UserWarning:\n",
      "\n",
      "X does not have valid feature names, but GaussianNB was fitted with feature names\n",
      "\n",
      "C:\\Users\\Dell\\anaconda3\\lib\\site-packages\\sklearn\\base.py:420: UserWarning:\n",
      "\n",
      "X does not have valid feature names, but GaussianNB was fitted with feature names\n",
      "\n",
      "C:\\Users\\Dell\\anaconda3\\lib\\site-packages\\sklearn\\base.py:420: UserWarning:\n",
      "\n",
      "X does not have valid feature names, but GaussianNB was fitted with feature names\n",
      "\n",
      "C:\\Users\\Dell\\anaconda3\\lib\\site-packages\\sklearn\\base.py:420: UserWarning:\n",
      "\n",
      "X does not have valid feature names, but GaussianNB was fitted with feature names\n",
      "\n",
      "C:\\Users\\Dell\\anaconda3\\lib\\site-packages\\sklearn\\base.py:420: UserWarning:\n",
      "\n",
      "X does not have valid feature names, but GaussianNB was fitted with feature names\n",
      "\n",
      "C:\\Users\\Dell\\anaconda3\\lib\\site-packages\\sklearn\\base.py:420: UserWarning:\n",
      "\n",
      "X does not have valid feature names, but GaussianNB was fitted with feature names\n",
      "\n",
      "C:\\Users\\Dell\\anaconda3\\lib\\site-packages\\sklearn\\base.py:420: UserWarning:\n",
      "\n",
      "X does not have valid feature names, but GaussianNB was fitted with feature names\n",
      "\n",
      "C:\\Users\\Dell\\anaconda3\\lib\\site-packages\\sklearn\\base.py:420: UserWarning:\n",
      "\n",
      "X does not have valid feature names, but GaussianNB was fitted with feature names\n",
      "\n",
      "C:\\Users\\Dell\\anaconda3\\lib\\site-packages\\sklearn\\base.py:420: UserWarning:\n",
      "\n",
      "X does not have valid feature names, but GaussianNB was fitted with feature names\n",
      "\n",
      "C:\\Users\\Dell\\anaconda3\\lib\\site-packages\\sklearn\\base.py:420: UserWarning:\n",
      "\n",
      "X does not have valid feature names, but GaussianNB was fitted with feature names\n",
      "\n",
      "C:\\Users\\Dell\\anaconda3\\lib\\site-packages\\sklearn\\base.py:420: UserWarning:\n",
      "\n",
      "X does not have valid feature names, but GaussianNB was fitted with feature names\n",
      "\n",
      "C:\\Users\\Dell\\anaconda3\\lib\\site-packages\\sklearn\\base.py:420: UserWarning:\n",
      "\n",
      "X does not have valid feature names, but GaussianNB was fitted with feature names\n",
      "\n",
      "C:\\Users\\Dell\\anaconda3\\lib\\site-packages\\sklearn\\base.py:420: UserWarning:\n",
      "\n",
      "X does not have valid feature names, but GaussianNB was fitted with feature names\n",
      "\n",
      "C:\\Users\\Dell\\anaconda3\\lib\\site-packages\\sklearn\\base.py:420: UserWarning:\n",
      "\n",
      "X does not have valid feature names, but GaussianNB was fitted with feature names\n",
      "\n",
      "C:\\Users\\Dell\\anaconda3\\lib\\site-packages\\sklearn\\base.py:420: UserWarning:\n",
      "\n",
      "X does not have valid feature names, but GaussianNB was fitted with feature names\n",
      "\n",
      "C:\\Users\\Dell\\anaconda3\\lib\\site-packages\\sklearn\\base.py:420: UserWarning:\n",
      "\n",
      "X does not have valid feature names, but GaussianNB was fitted with feature names\n",
      "\n",
      "C:\\Users\\Dell\\anaconda3\\lib\\site-packages\\sklearn\\base.py:420: UserWarning:\n",
      "\n",
      "X does not have valid feature names, but GaussianNB was fitted with feature names\n",
      "\n",
      "C:\\Users\\Dell\\anaconda3\\lib\\site-packages\\sklearn\\base.py:420: UserWarning:\n",
      "\n",
      "X does not have valid feature names, but GaussianNB was fitted with feature names\n",
      "\n",
      "C:\\Users\\Dell\\anaconda3\\lib\\site-packages\\sklearn\\base.py:420: UserWarning:\n",
      "\n",
      "X does not have valid feature names, but GaussianNB was fitted with feature names\n",
      "\n",
      "C:\\Users\\Dell\\anaconda3\\lib\\site-packages\\sklearn\\base.py:420: UserWarning:\n",
      "\n",
      "X does not have valid feature names, but GaussianNB was fitted with feature names\n",
      "\n",
      "C:\\Users\\Dell\\anaconda3\\lib\\site-packages\\sklearn\\base.py:420: UserWarning:\n",
      "\n",
      "X does not have valid feature names, but GaussianNB was fitted with feature names\n",
      "\n",
      "C:\\Users\\Dell\\anaconda3\\lib\\site-packages\\sklearn\\base.py:420: UserWarning:\n",
      "\n",
      "X does not have valid feature names, but GaussianNB was fitted with feature names\n",
      "\n",
      "C:\\Users\\Dell\\anaconda3\\lib\\site-packages\\sklearn\\base.py:420: UserWarning:\n",
      "\n",
      "X does not have valid feature names, but GaussianNB was fitted with feature names\n",
      "\n",
      "C:\\Users\\Dell\\anaconda3\\lib\\site-packages\\sklearn\\base.py:420: UserWarning:\n",
      "\n",
      "X does not have valid feature names, but GaussianNB was fitted with feature names\n",
      "\n",
      "C:\\Users\\Dell\\anaconda3\\lib\\site-packages\\sklearn\\base.py:420: UserWarning:\n",
      "\n",
      "X does not have valid feature names, but GaussianNB was fitted with feature names\n",
      "\n",
      "C:\\Users\\Dell\\anaconda3\\lib\\site-packages\\sklearn\\base.py:420: UserWarning:\n",
      "\n",
      "X does not have valid feature names, but GaussianNB was fitted with feature names\n",
      "\n",
      "C:\\Users\\Dell\\anaconda3\\lib\\site-packages\\sklearn\\base.py:420: UserWarning:\n",
      "\n",
      "X does not have valid feature names, but GaussianNB was fitted with feature names\n",
      "\n",
      "C:\\Users\\Dell\\anaconda3\\lib\\site-packages\\sklearn\\base.py:420: UserWarning:\n",
      "\n",
      "X does not have valid feature names, but GaussianNB was fitted with feature names\n",
      "\n",
      "C:\\Users\\Dell\\anaconda3\\lib\\site-packages\\sklearn\\base.py:420: UserWarning:\n",
      "\n",
      "X does not have valid feature names, but GaussianNB was fitted with feature names\n",
      "\n",
      "C:\\Users\\Dell\\anaconda3\\lib\\site-packages\\sklearn\\base.py:420: UserWarning:\n",
      "\n",
      "X does not have valid feature names, but GaussianNB was fitted with feature names\n",
      "\n",
      "C:\\Users\\Dell\\anaconda3\\lib\\site-packages\\sklearn\\base.py:420: UserWarning:\n",
      "\n",
      "X does not have valid feature names, but GaussianNB was fitted with feature names\n",
      "\n",
      "C:\\Users\\Dell\\anaconda3\\lib\\site-packages\\sklearn\\base.py:420: UserWarning:\n",
      "\n",
      "X does not have valid feature names, but GaussianNB was fitted with feature names\n",
      "\n",
      "C:\\Users\\Dell\\anaconda3\\lib\\site-packages\\sklearn\\base.py:420: UserWarning:\n",
      "\n",
      "X does not have valid feature names, but GaussianNB was fitted with feature names\n",
      "\n",
      "C:\\Users\\Dell\\anaconda3\\lib\\site-packages\\sklearn\\base.py:420: UserWarning:\n",
      "\n",
      "X does not have valid feature names, but GaussianNB was fitted with feature names\n",
      "\n",
      "C:\\Users\\Dell\\anaconda3\\lib\\site-packages\\sklearn\\base.py:420: UserWarning:\n",
      "\n",
      "X does not have valid feature names, but GaussianNB was fitted with feature names\n",
      "\n",
      "C:\\Users\\Dell\\anaconda3\\lib\\site-packages\\sklearn\\base.py:420: UserWarning:\n",
      "\n",
      "X does not have valid feature names, but GaussianNB was fitted with feature names\n",
      "\n",
      "C:\\Users\\Dell\\anaconda3\\lib\\site-packages\\sklearn\\base.py:420: UserWarning:\n",
      "\n",
      "X does not have valid feature names, but GaussianNB was fitted with feature names\n",
      "\n",
      "C:\\Users\\Dell\\anaconda3\\lib\\site-packages\\sklearn\\base.py:420: UserWarning:\n",
      "\n",
      "X does not have valid feature names, but GaussianNB was fitted with feature names\n",
      "\n",
      "C:\\Users\\Dell\\anaconda3\\lib\\site-packages\\sklearn\\base.py:420: UserWarning:\n",
      "\n",
      "X does not have valid feature names, but GaussianNB was fitted with feature names\n",
      "\n",
      "C:\\Users\\Dell\\anaconda3\\lib\\site-packages\\sklearn\\base.py:420: UserWarning:\n",
      "\n",
      "X does not have valid feature names, but GaussianNB was fitted with feature names\n",
      "\n",
      "C:\\Users\\Dell\\anaconda3\\lib\\site-packages\\sklearn\\base.py:420: UserWarning:\n",
      "\n",
      "X does not have valid feature names, but GaussianNB was fitted with feature names\n",
      "\n",
      "C:\\Users\\Dell\\anaconda3\\lib\\site-packages\\sklearn\\base.py:420: UserWarning:\n",
      "\n",
      "X does not have valid feature names, but GaussianNB was fitted with feature names\n",
      "\n",
      "C:\\Users\\Dell\\anaconda3\\lib\\site-packages\\sklearn\\base.py:420: UserWarning:\n",
      "\n",
      "X does not have valid feature names, but GaussianNB was fitted with feature names\n",
      "\n",
      "C:\\Users\\Dell\\anaconda3\\lib\\site-packages\\sklearn\\base.py:420: UserWarning:\n",
      "\n",
      "X does not have valid feature names, but GaussianNB was fitted with feature names\n",
      "\n",
      "C:\\Users\\Dell\\anaconda3\\lib\\site-packages\\sklearn\\base.py:420: UserWarning:\n",
      "\n",
      "X does not have valid feature names, but GaussianNB was fitted with feature names\n",
      "\n",
      "C:\\Users\\Dell\\anaconda3\\lib\\site-packages\\sklearn\\base.py:420: UserWarning:\n",
      "\n",
      "X does not have valid feature names, but GaussianNB was fitted with feature names\n",
      "\n",
      "C:\\Users\\Dell\\anaconda3\\lib\\site-packages\\sklearn\\base.py:420: UserWarning:\n",
      "\n",
      "X does not have valid feature names, but GaussianNB was fitted with feature names\n",
      "\n",
      "C:\\Users\\Dell\\anaconda3\\lib\\site-packages\\sklearn\\base.py:420: UserWarning:\n",
      "\n",
      "X does not have valid feature names, but GaussianNB was fitted with feature names\n",
      "\n",
      "C:\\Users\\Dell\\anaconda3\\lib\\site-packages\\sklearn\\base.py:420: UserWarning:\n",
      "\n",
      "X does not have valid feature names, but GaussianNB was fitted with feature names\n",
      "\n",
      "C:\\Users\\Dell\\anaconda3\\lib\\site-packages\\sklearn\\base.py:420: UserWarning:\n",
      "\n",
      "X does not have valid feature names, but GaussianNB was fitted with feature names\n",
      "\n",
      "C:\\Users\\Dell\\anaconda3\\lib\\site-packages\\sklearn\\base.py:420: UserWarning:\n",
      "\n",
      "X does not have valid feature names, but GaussianNB was fitted with feature names\n",
      "\n",
      "C:\\Users\\Dell\\anaconda3\\lib\\site-packages\\sklearn\\base.py:420: UserWarning:\n",
      "\n",
      "X does not have valid feature names, but GaussianNB was fitted with feature names\n",
      "\n",
      "C:\\Users\\Dell\\anaconda3\\lib\\site-packages\\sklearn\\base.py:420: UserWarning:\n",
      "\n",
      "X does not have valid feature names, but GaussianNB was fitted with feature names\n",
      "\n",
      "C:\\Users\\Dell\\anaconda3\\lib\\site-packages\\sklearn\\base.py:420: UserWarning:\n",
      "\n",
      "X does not have valid feature names, but GaussianNB was fitted with feature names\n",
      "\n",
      "C:\\Users\\Dell\\anaconda3\\lib\\site-packages\\sklearn\\base.py:420: UserWarning:\n",
      "\n",
      "X does not have valid feature names, but GaussianNB was fitted with feature names\n",
      "\n",
      "C:\\Users\\Dell\\anaconda3\\lib\\site-packages\\sklearn\\base.py:420: UserWarning:\n",
      "\n",
      "X does not have valid feature names, but GaussianNB was fitted with feature names\n",
      "\n",
      "C:\\Users\\Dell\\anaconda3\\lib\\site-packages\\sklearn\\base.py:420: UserWarning:\n",
      "\n",
      "X does not have valid feature names, but GaussianNB was fitted with feature names\n",
      "\n",
      "C:\\Users\\Dell\\anaconda3\\lib\\site-packages\\sklearn\\base.py:420: UserWarning:\n",
      "\n",
      "X does not have valid feature names, but GaussianNB was fitted with feature names\n",
      "\n",
      "C:\\Users\\Dell\\anaconda3\\lib\\site-packages\\sklearn\\base.py:420: UserWarning:\n",
      "\n",
      "X does not have valid feature names, but GaussianNB was fitted with feature names\n",
      "\n",
      "C:\\Users\\Dell\\anaconda3\\lib\\site-packages\\sklearn\\base.py:420: UserWarning:\n",
      "\n",
      "X does not have valid feature names, but GaussianNB was fitted with feature names\n",
      "\n",
      "C:\\Users\\Dell\\anaconda3\\lib\\site-packages\\sklearn\\base.py:420: UserWarning:\n",
      "\n",
      "X does not have valid feature names, but GaussianNB was fitted with feature names\n",
      "\n",
      "C:\\Users\\Dell\\anaconda3\\lib\\site-packages\\sklearn\\base.py:420: UserWarning:\n",
      "\n",
      "X does not have valid feature names, but GaussianNB was fitted with feature names\n",
      "\n",
      "C:\\Users\\Dell\\anaconda3\\lib\\site-packages\\sklearn\\base.py:420: UserWarning:\n",
      "\n",
      "X does not have valid feature names, but GaussianNB was fitted with feature names\n",
      "\n",
      "C:\\Users\\Dell\\anaconda3\\lib\\site-packages\\sklearn\\base.py:420: UserWarning:\n",
      "\n",
      "X does not have valid feature names, but GaussianNB was fitted with feature names\n",
      "\n",
      "C:\\Users\\Dell\\anaconda3\\lib\\site-packages\\sklearn\\base.py:420: UserWarning:\n",
      "\n",
      "X does not have valid feature names, but GaussianNB was fitted with feature names\n",
      "\n",
      "C:\\Users\\Dell\\anaconda3\\lib\\site-packages\\sklearn\\base.py:420: UserWarning:\n",
      "\n",
      "X does not have valid feature names, but GaussianNB was fitted with feature names\n",
      "\n",
      "C:\\Users\\Dell\\anaconda3\\lib\\site-packages\\sklearn\\base.py:420: UserWarning:\n",
      "\n",
      "X does not have valid feature names, but GaussianNB was fitted with feature names\n",
      "\n",
      "C:\\Users\\Dell\\anaconda3\\lib\\site-packages\\sklearn\\base.py:420: UserWarning:\n",
      "\n",
      "X does not have valid feature names, but GaussianNB was fitted with feature names\n",
      "\n",
      "C:\\Users\\Dell\\anaconda3\\lib\\site-packages\\sklearn\\base.py:420: UserWarning:\n",
      "\n",
      "X does not have valid feature names, but GaussianNB was fitted with feature names\n",
      "\n",
      "C:\\Users\\Dell\\anaconda3\\lib\\site-packages\\sklearn\\base.py:420: UserWarning:\n",
      "\n",
      "X does not have valid feature names, but GaussianNB was fitted with feature names\n",
      "\n",
      "C:\\Users\\Dell\\anaconda3\\lib\\site-packages\\sklearn\\base.py:420: UserWarning:\n",
      "\n",
      "X does not have valid feature names, but GaussianNB was fitted with feature names\n",
      "\n",
      "C:\\Users\\Dell\\anaconda3\\lib\\site-packages\\sklearn\\base.py:420: UserWarning:\n",
      "\n",
      "X does not have valid feature names, but GaussianNB was fitted with feature names\n",
      "\n"
     ]
    }
   ],
   "source": [
    "\n",
    "df.rename(columns={'class': 'y_true'}, inplace=True)\n",
    "df['y_predict'] = df.apply(lambda x:modelo_previsao(x['alcalinidade_das_cinzas'],x['total_fenol'], x['flavenoides'],x['cor'], x['diluicao'],x['prolina']),axis=1)"
   ]
  },
  {
   "cell_type": "code",
   "execution_count": null,
   "metadata": {},
   "outputs": [
    {
     "data": {
      "text/plain": [
       "array([[56,  2,  0],\n",
       "       [ 4, 66,  1],\n",
       "       [ 0,  0, 48]], dtype=int64)"
      ]
     },
     "execution_count": 16,
     "metadata": {},
     "output_type": "execute_result"
    }
   ],
   "source": [
    "from sklearn.metrics import confusion_matrix\n",
    "y_true = df['y_true']\n",
    "y_predict = df['y_predict']\n",
    "\n",
    "confusion_matrix(y_true , y_predict, labels=[1,2,3])"
   ]
  },
  {
   "cell_type": "markdown",
   "metadata": {},
   "source": [
    "  \n",
    "*  V1 = 56 F1 = 2  F1 = 0\n",
    "*  F2 = 4  V2 = 66 F2 = 1\n",
    "*  F3 = 0  F3 = 0  V3 = 48"
   ]
  },
  {
   "cell_type": "code",
   "execution_count": null,
   "metadata": {},
   "outputs": [
    {
     "data": {
      "text/plain": [
       "0.96045197740113"
      ]
     },
     "execution_count": 17,
     "metadata": {},
     "output_type": "execute_result"
    }
   ],
   "source": [
    "# Acuracidade do modelo\n",
    "from sklearn.metrics import accuracy_score\n",
    "accuracy_score(y_true , y_predict)"
   ]
  },
  {
   "cell_type": "code",
   "execution_count": null,
   "metadata": {},
   "outputs": [
    {
     "data": {
      "text/plain": [
       "array([0.93333333, 0.97058824, 0.97959184])"
      ]
     },
     "execution_count": 18,
     "metadata": {},
     "output_type": "execute_result"
    }
   ],
   "source": [
    "# Precisao do modelo\n",
    "from sklearn.metrics import precision_score\n",
    "\n",
    "precision_score(y_true , y_predict, average= None, labels=[1,2,3])"
   ]
  },
  {
   "cell_type": "code",
   "execution_count": null,
   "metadata": {},
   "outputs": [
    {
     "data": {
      "text/html": [
       "<div>\n",
       "<style scoped>\n",
       "    .dataframe tbody tr th:only-of-type {\n",
       "        vertical-align: middle;\n",
       "    }\n",
       "\n",
       "    .dataframe tbody tr th {\n",
       "        vertical-align: top;\n",
       "    }\n",
       "\n",
       "    .dataframe thead th {\n",
       "        text-align: right;\n",
       "    }\n",
       "</style>\n",
       "<table border=\"1\" class=\"dataframe\">\n",
       "  <thead>\n",
       "    <tr style=\"text-align: right;\">\n",
       "      <th></th>\n",
       "      <th>y_predict</th>\n",
       "      <th>y_true</th>\n",
       "    </tr>\n",
       "  </thead>\n",
       "  <tbody>\n",
       "    <tr>\n",
       "      <th>65</th>\n",
       "      <td>1</td>\n",
       "      <td>2</td>\n",
       "    </tr>\n",
       "    <tr>\n",
       "      <th>69</th>\n",
       "      <td>3</td>\n",
       "      <td>2</td>\n",
       "    </tr>\n",
       "    <tr>\n",
       "      <th>73</th>\n",
       "      <td>1</td>\n",
       "      <td>2</td>\n",
       "    </tr>\n",
       "    <tr>\n",
       "      <th>94</th>\n",
       "      <td>1</td>\n",
       "      <td>2</td>\n",
       "    </tr>\n",
       "    <tr>\n",
       "      <th>108</th>\n",
       "      <td>1</td>\n",
       "      <td>2</td>\n",
       "    </tr>\n",
       "  </tbody>\n",
       "</table>\n",
       "</div>"
      ],
      "text/plain": [
       "     y_predict  y_true\n",
       "65           1       2\n",
       "69           3       2\n",
       "73           1       2\n",
       "94           1       2\n",
       "108          1       2"
      ]
     },
     "metadata": {},
     "output_type": "display_data"
    }
   ],
   "source": [
    "teste = df[['y_predict','y_true']]\n",
    "teste = teste[teste['y_predict'] != 2]\n",
    "display(teste.loc[teste['y_true'] == 2])"
   ]
  },
  {
   "cell_type": "code",
   "execution_count": null,
   "metadata": {},
   "outputs": [
    {
     "data": {
      "text/plain": [
       "array([0.96551724, 0.92957746, 1.        ])"
      ]
     },
     "execution_count": 20,
     "metadata": {},
     "output_type": "execute_result"
    }
   ],
   "source": [
    "# recall do modelo\n",
    "\n",
    "from sklearn.metrics import recall_score\n",
    "\n",
    "recall_score(y_true, y_predict, average=None, labels=[1,2,3])"
   ]
  }
 ],
 "metadata": {
  "kernelspec": {
   "display_name": "Python 3 (ipykernel)",
   "language": "python",
   "name": "python3"
  },
  "language_info": {
   "codemirror_mode": {
    "name": "ipython",
    "version": 3
   },
   "file_extension": ".py",
   "mimetype": "text/x-python",
   "name": "python",
   "nbconvert_exporter": "python",
   "pygments_lexer": "ipython3",
   "version": "3.10.9"
  }
 },
 "nbformat": 4,
 "nbformat_minor": 2
}
